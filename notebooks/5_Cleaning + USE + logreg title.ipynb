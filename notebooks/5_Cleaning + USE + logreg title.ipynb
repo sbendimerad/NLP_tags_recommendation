{
  "nbformat": 4,
  "nbformat_minor": 0,
  "metadata": {
    "colab": {
      "provenance": []
    },
    "kernelspec": {
      "name": "python3",
      "display_name": "Python 3"
    },
    "language_info": {
      "name": "python"
    }
  },
  "cells": [
    {
      "cell_type": "code",
      "execution_count": 1,
      "metadata": {
        "id": "5NBjuiPqBaSf"
      },
      "outputs": [],
      "source": [
        "import pandas as pd\n",
        "import numpy as np\n",
        "import time"
      ]
    },
    {
      "cell_type": "code",
      "source": [
        "import nltk\n",
        "nltk.download('stopwords')\n",
        "nltk.download('punkt')\n",
        "nltk.download('averaged_perceptron_tagger')\n",
        "nltk.download('wordnet')\n",
        "stop_words = nltk.corpus.stopwords.words(\"english\")\n",
        "for word in ['what', 'how', 'where', 'who', 'which'] :\n",
        "    stop_words.append(word)\n",
        "from string import punctuation"
      ],
      "metadata": {
        "colab": {
          "base_uri": "https://localhost:8080/"
        },
        "id": "ImNTKZ4uDeFw",
        "outputId": "0037546a-cc76-4304-e8d6-52ed990358ec"
      },
      "execution_count": 2,
      "outputs": [
        {
          "output_type": "stream",
          "name": "stderr",
          "text": [
            "[nltk_data] Downloading package stopwords to /root/nltk_data...\n",
            "[nltk_data]   Package stopwords is already up-to-date!\n",
            "[nltk_data] Downloading package punkt to /root/nltk_data...\n",
            "[nltk_data]   Package punkt is already up-to-date!\n",
            "[nltk_data] Downloading package averaged_perceptron_tagger to\n",
            "[nltk_data]     /root/nltk_data...\n",
            "[nltk_data]   Package averaged_perceptron_tagger is already up-to-\n",
            "[nltk_data]       date!\n",
            "[nltk_data] Downloading package wordnet to /root/nltk_data...\n",
            "[nltk_data]   Package wordnet is already up-to-date!\n"
          ]
        }
      ]
    },
    {
      "cell_type": "code",
      "source": [
        "from sklearn.model_selection import train_test_split\n",
        "from sklearn.metrics import jaccard_score\n",
        "from sklearn.linear_model import LogisticRegression"
      ],
      "metadata": {
        "id": "M1_43OglDk5T"
      },
      "execution_count": 3,
      "outputs": []
    },
    {
      "cell_type": "code",
      "source": [
        "from sklearn.multioutput import MultiOutputClassifier"
      ],
      "metadata": {
        "id": "rOPSNaY5DvMh"
      },
      "execution_count": 4,
      "outputs": []
    },
    {
      "cell_type": "code",
      "source": [
        "file = open(\"/content/top_10_tags.txt\", \"r\")\n",
        "top_10_tags = file.read()\n",
        "top_10_tags = list(top_10_tags.split('\\n')[:-1])\n",
        "file.close()"
      ],
      "metadata": {
        "id": "ScBvL4EoDxNM"
      },
      "execution_count": 5,
      "outputs": []
    },
    {
      "cell_type": "code",
      "source": [
        "data = pd.read_csv(\"/content/data.csv\", engine = 'python', encoding='utf-8', error_bad_lines=False)"
      ],
      "metadata": {
        "id": "JGklzATnDzSY",
        "colab": {
          "base_uri": "https://localhost:8080/"
        },
        "outputId": "25283114-09fb-4b57-a1c3-95dc954cfb49"
      },
      "execution_count": 6,
      "outputs": [
        {
          "output_type": "stream",
          "name": "stderr",
          "text": [
            "<ipython-input-6-12374c331878>:1: FutureWarning: The error_bad_lines argument has been deprecated and will be removed in a future version. Use on_bad_lines in the future.\n",
            "\n",
            "\n",
            "  data = pd.read_csv(\"/content/data.csv\", engine = 'python', encoding='utf-8', error_bad_lines=False)\n"
          ]
        }
      ]
    },
    {
      "cell_type": "code",
      "source": [
        "text = data['Title']\n",
        "text_spl = text.sample(frac = 0.25).reset_index()\n",
        "text_spl.head()"
      ],
      "metadata": {
        "colab": {
          "base_uri": "https://localhost:8080/",
          "height": 204
        },
        "id": "YkZFMal3D_Ye",
        "outputId": "09fecadd-f737-4422-e20a-9ccd273904d6"
      },
      "execution_count": 7,
      "outputs": [
        {
          "output_type": "execute_result",
          "data": {
            "text/plain": [
              "   index                                              Title\n",
              "0  17865  How to import self-signed SSL certificate to V...\n",
              "1   8427        Getting Windows OS version programmatically\n",
              "2   8859                         Rounded Corners on UIImage\n",
              "3   3048                   Android Gauge Animation Question\n",
              "4  39135  pandas - change df.index from float64 to unico..."
            ],
            "text/html": [
              "\n",
              "  <div id=\"df-73c2a606-2917-44db-a663-474dfbb206c9\">\n",
              "    <div class=\"colab-df-container\">\n",
              "      <div>\n",
              "<style scoped>\n",
              "    .dataframe tbody tr th:only-of-type {\n",
              "        vertical-align: middle;\n",
              "    }\n",
              "\n",
              "    .dataframe tbody tr th {\n",
              "        vertical-align: top;\n",
              "    }\n",
              "\n",
              "    .dataframe thead th {\n",
              "        text-align: right;\n",
              "    }\n",
              "</style>\n",
              "<table border=\"1\" class=\"dataframe\">\n",
              "  <thead>\n",
              "    <tr style=\"text-align: right;\">\n",
              "      <th></th>\n",
              "      <th>index</th>\n",
              "      <th>Title</th>\n",
              "    </tr>\n",
              "  </thead>\n",
              "  <tbody>\n",
              "    <tr>\n",
              "      <th>0</th>\n",
              "      <td>17865</td>\n",
              "      <td>How to import self-signed SSL certificate to V...</td>\n",
              "    </tr>\n",
              "    <tr>\n",
              "      <th>1</th>\n",
              "      <td>8427</td>\n",
              "      <td>Getting Windows OS version programmatically</td>\n",
              "    </tr>\n",
              "    <tr>\n",
              "      <th>2</th>\n",
              "      <td>8859</td>\n",
              "      <td>Rounded Corners on UIImage</td>\n",
              "    </tr>\n",
              "    <tr>\n",
              "      <th>3</th>\n",
              "      <td>3048</td>\n",
              "      <td>Android Gauge Animation Question</td>\n",
              "    </tr>\n",
              "    <tr>\n",
              "      <th>4</th>\n",
              "      <td>39135</td>\n",
              "      <td>pandas - change df.index from float64 to unico...</td>\n",
              "    </tr>\n",
              "  </tbody>\n",
              "</table>\n",
              "</div>\n",
              "      <button class=\"colab-df-convert\" onclick=\"convertToInteractive('df-73c2a606-2917-44db-a663-474dfbb206c9')\"\n",
              "              title=\"Convert this dataframe to an interactive table.\"\n",
              "              style=\"display:none;\">\n",
              "        \n",
              "  <svg xmlns=\"http://www.w3.org/2000/svg\" height=\"24px\"viewBox=\"0 0 24 24\"\n",
              "       width=\"24px\">\n",
              "    <path d=\"M0 0h24v24H0V0z\" fill=\"none\"/>\n",
              "    <path d=\"M18.56 5.44l.94 2.06.94-2.06 2.06-.94-2.06-.94-.94-2.06-.94 2.06-2.06.94zm-11 1L8.5 8.5l.94-2.06 2.06-.94-2.06-.94L8.5 2.5l-.94 2.06-2.06.94zm10 10l.94 2.06.94-2.06 2.06-.94-2.06-.94-.94-2.06-.94 2.06-2.06.94z\"/><path d=\"M17.41 7.96l-1.37-1.37c-.4-.4-.92-.59-1.43-.59-.52 0-1.04.2-1.43.59L10.3 9.45l-7.72 7.72c-.78.78-.78 2.05 0 2.83L4 21.41c.39.39.9.59 1.41.59.51 0 1.02-.2 1.41-.59l7.78-7.78 2.81-2.81c.8-.78.8-2.07 0-2.86zM5.41 20L4 18.59l7.72-7.72 1.47 1.35L5.41 20z\"/>\n",
              "  </svg>\n",
              "      </button>\n",
              "      \n",
              "  <style>\n",
              "    .colab-df-container {\n",
              "      display:flex;\n",
              "      flex-wrap:wrap;\n",
              "      gap: 12px;\n",
              "    }\n",
              "\n",
              "    .colab-df-convert {\n",
              "      background-color: #E8F0FE;\n",
              "      border: none;\n",
              "      border-radius: 50%;\n",
              "      cursor: pointer;\n",
              "      display: none;\n",
              "      fill: #1967D2;\n",
              "      height: 32px;\n",
              "      padding: 0 0 0 0;\n",
              "      width: 32px;\n",
              "    }\n",
              "\n",
              "    .colab-df-convert:hover {\n",
              "      background-color: #E2EBFA;\n",
              "      box-shadow: 0px 1px 2px rgba(60, 64, 67, 0.3), 0px 1px 3px 1px rgba(60, 64, 67, 0.15);\n",
              "      fill: #174EA6;\n",
              "    }\n",
              "\n",
              "    [theme=dark] .colab-df-convert {\n",
              "      background-color: #3B4455;\n",
              "      fill: #D2E3FC;\n",
              "    }\n",
              "\n",
              "    [theme=dark] .colab-df-convert:hover {\n",
              "      background-color: #434B5C;\n",
              "      box-shadow: 0px 1px 3px 1px rgba(0, 0, 0, 0.15);\n",
              "      filter: drop-shadow(0px 1px 2px rgba(0, 0, 0, 0.3));\n",
              "      fill: #FFFFFF;\n",
              "    }\n",
              "  </style>\n",
              "\n",
              "      <script>\n",
              "        const buttonEl =\n",
              "          document.querySelector('#df-73c2a606-2917-44db-a663-474dfbb206c9 button.colab-df-convert');\n",
              "        buttonEl.style.display =\n",
              "          google.colab.kernel.accessAllowed ? 'block' : 'none';\n",
              "\n",
              "        async function convertToInteractive(key) {\n",
              "          const element = document.querySelector('#df-73c2a606-2917-44db-a663-474dfbb206c9');\n",
              "          const dataTable =\n",
              "            await google.colab.kernel.invokeFunction('convertToInteractive',\n",
              "                                                     [key], {});\n",
              "          if (!dataTable) return;\n",
              "\n",
              "          const docLinkHtml = 'Like what you see? Visit the ' +\n",
              "            '<a target=\"_blank\" href=https://colab.research.google.com/notebooks/data_table.ipynb>data table notebook</a>'\n",
              "            + ' to learn more about interactive tables.';\n",
              "          element.innerHTML = '';\n",
              "          dataTable['output_type'] = 'display_data';\n",
              "          await google.colab.output.renderOutput(dataTable, element);\n",
              "          const docLink = document.createElement('div');\n",
              "          docLink.innerHTML = docLinkHtml;\n",
              "          element.appendChild(docLink);\n",
              "        }\n",
              "      </script>\n",
              "    </div>\n",
              "  </div>\n",
              "  "
            ]
          },
          "metadata": {},
          "execution_count": 7
        }
      ]
    },
    {
      "cell_type": "code",
      "source": [
        "def preprocess(text) :\n",
        "\n",
        "    \"\"\"\" Nettoyage du texte :\n",
        "    passage au minuscule\n",
        "    suppression du code éventuel du texte que l'on stocke dans une variable 'code'\n",
        "    suppression et du contenu des balises autres que p (script, alt, ...)\n",
        "    suppression des balises html\n",
        "    conservation des textes labellisés par les top 10 tags uniquement\n",
        "    suppression de la ponctuation, des chiffres,\n",
        "    et des stopwords\n",
        "    lemmatisation par spaCy \"\"\"\n",
        "    \n",
        "    text = text.lower()\n",
        "    \n",
        "    for i in range(1, len(text)) :\n",
        "        if text[i-1] == 'c' and text[i] == '#' :\n",
        "            text = text.replace(text[i], 'sharp')\n",
        "    \n",
        "    token_list = nltk.word_tokenize(text)\n",
        "    \n",
        "    new_text = []\n",
        "    \n",
        "    for token in token_list :\n",
        "        if token in top_10_tags :\n",
        "            new_text.append(token)\n",
        "        elif token not in stop_words :\n",
        "            for char in token :\n",
        "                if char in punctuation or char.isdigit() :\n",
        "                    token = token.replace(char, '')\n",
        "            new_text.append(token)\n",
        "    \n",
        "    lem = nltk.stem.WordNetLemmatizer()\n",
        "    \n",
        "    for token in new_text :\n",
        "        if nltk.pos_tag([token])[0][1].startswith('V') :\n",
        "            index = new_text.index(token)\n",
        "            token_lem = lem.lemmatize(token, pos = 'v')\n",
        "            new_text[index] = new_text[index].replace(token, token_lem)\n",
        "            \n",
        "    new_text = ' '.join(new_text)\n",
        "\n",
        "    return new_text"
      ],
      "metadata": {
        "id": "4s2LmnhiWoXV"
      },
      "execution_count": 8,
      "outputs": []
    },
    {
      "cell_type": "code",
      "source": [
        "print(\"Textes bruts :\")\n",
        "print(\"\")\n",
        "print(text_spl.loc[:11, 'Title'])\n",
        "print(\"---------------------------------------\")\n",
        "print(\"Textes nettoyés :\")\n",
        "print(\"\")\n",
        "print(text_spl.loc[:11, 'Title'].apply(preprocess))"
      ],
      "metadata": {
        "colab": {
          "base_uri": "https://localhost:8080/"
        },
        "id": "rH3gUFzCWuQE",
        "outputId": "cc94b6e1-c272-4f7d-d149-ceaf487026d5"
      },
      "execution_count": 9,
      "outputs": [
        {
          "output_type": "stream",
          "name": "stdout",
          "text": [
            "Textes bruts :\n",
            "\n",
            "0     How to import self-signed SSL certificate to V...\n",
            "1           Getting Windows OS version programmatically\n",
            "2                            Rounded Corners on UIImage\n",
            "3                      Android Gauge Animation Question\n",
            "4     pandas - change df.index from float64 to unico...\n",
            "5               Rvalues, lvalues and formal definitions\n",
            "6     Recursion on reactive streams with Project Rea...\n",
            "7                      Cross-thread operation not valid\n",
            "8     Can I serve JSPs from inside a JAR in lib, or ...\n",
            "9               Getting current device language in iOS?\n",
            "10    React native deploying on iOS device stuck on ...\n",
            "11    COM Interop: What should I do to make a C# pro...\n",
            "Name: Title, dtype: object\n",
            "---------------------------------------\n",
            "Textes nettoyés :\n",
            "\n",
            "0     import selfsigned ssl certificate volley android \n",
            "1               get windows os version programmatically\n",
            "2                                 round corners uiimage\n",
            "3                      android gauge animation question\n",
            "4           pandas  change dfindex float unicode string\n",
            "5                   rvalues  lvalues formal definitions\n",
            "6            recursion reactive streams project reactor\n",
            "7                           crossthread operation valid\n",
            "8                serve jsps inside jar lib  workaround \n",
            "9                      get current device language ios \n",
            "10    react native deploy ios device stuck run   cus...\n",
            "11    com interop  make csharp property usable varia...\n",
            "Name: Title, dtype: object\n"
          ]
        }
      ]
    },
    {
      "cell_type": "code",
      "source": [
        "%%time\n",
        "text_clean = text_spl['Title'].apply(preprocess)"
      ],
      "metadata": {
        "colab": {
          "base_uri": "https://localhost:8080/"
        },
        "id": "U9qVl_hxWw4g",
        "outputId": "3023e562-1fcb-4d84-bcf8-eba75a148f40"
      },
      "execution_count": 10,
      "outputs": [
        {
          "output_type": "stream",
          "name": "stdout",
          "text": [
            "CPU times: user 19.2 s, sys: 1.02 s, total: 20.2 s\n",
            "Wall time: 30.4 s\n"
          ]
        }
      ]
    },
    {
      "cell_type": "code",
      "source": [
        "text_spl['Title_clean'] = text_clean"
      ],
      "metadata": {
        "id": "vUdzNQHrW14P"
      },
      "execution_count": 11,
      "outputs": []
    },
    {
      "cell_type": "code",
      "source": [
        "data = pd.merge(data.iloc[text_spl['index']], text_spl)[['Title', 'Title_clean', 'Tags']]\n",
        "data.head(3)"
      ],
      "metadata": {
        "colab": {
          "base_uri": "https://localhost:8080/",
          "height": 142
        },
        "id": "37ruwyv4W4Yn",
        "outputId": "d48706b3-2d8e-4a07-865f-2bb31ae84f93"
      },
      "execution_count": 12,
      "outputs": [
        {
          "output_type": "execute_result",
          "data": {
            "text/plain": [
              "                                               Title  \\\n",
              "0  How to import self-signed SSL certificate to V...   \n",
              "1        Getting Windows OS version programmatically   \n",
              "2                         Rounded Corners on UIImage   \n",
              "\n",
              "                                         Title_clean  \\\n",
              "0  import selfsigned ssl certificate volley android    \n",
              "1            get windows os version programmatically   \n",
              "2                              round corners uiimage   \n",
              "\n",
              "                               Tags  \n",
              "0                       ['android']  \n",
              "1                 ['c#', 'windows']  \n",
              "2  ['ios', 'iphone', 'objective-c']  "
            ],
            "text/html": [
              "\n",
              "  <div id=\"df-dc2a6d34-22d1-4573-a9fc-191d64da7355\">\n",
              "    <div class=\"colab-df-container\">\n",
              "      <div>\n",
              "<style scoped>\n",
              "    .dataframe tbody tr th:only-of-type {\n",
              "        vertical-align: middle;\n",
              "    }\n",
              "\n",
              "    .dataframe tbody tr th {\n",
              "        vertical-align: top;\n",
              "    }\n",
              "\n",
              "    .dataframe thead th {\n",
              "        text-align: right;\n",
              "    }\n",
              "</style>\n",
              "<table border=\"1\" class=\"dataframe\">\n",
              "  <thead>\n",
              "    <tr style=\"text-align: right;\">\n",
              "      <th></th>\n",
              "      <th>Title</th>\n",
              "      <th>Title_clean</th>\n",
              "      <th>Tags</th>\n",
              "    </tr>\n",
              "  </thead>\n",
              "  <tbody>\n",
              "    <tr>\n",
              "      <th>0</th>\n",
              "      <td>How to import self-signed SSL certificate to V...</td>\n",
              "      <td>import selfsigned ssl certificate volley android</td>\n",
              "      <td>['android']</td>\n",
              "    </tr>\n",
              "    <tr>\n",
              "      <th>1</th>\n",
              "      <td>Getting Windows OS version programmatically</td>\n",
              "      <td>get windows os version programmatically</td>\n",
              "      <td>['c#', 'windows']</td>\n",
              "    </tr>\n",
              "    <tr>\n",
              "      <th>2</th>\n",
              "      <td>Rounded Corners on UIImage</td>\n",
              "      <td>round corners uiimage</td>\n",
              "      <td>['ios', 'iphone', 'objective-c']</td>\n",
              "    </tr>\n",
              "  </tbody>\n",
              "</table>\n",
              "</div>\n",
              "      <button class=\"colab-df-convert\" onclick=\"convertToInteractive('df-dc2a6d34-22d1-4573-a9fc-191d64da7355')\"\n",
              "              title=\"Convert this dataframe to an interactive table.\"\n",
              "              style=\"display:none;\">\n",
              "        \n",
              "  <svg xmlns=\"http://www.w3.org/2000/svg\" height=\"24px\"viewBox=\"0 0 24 24\"\n",
              "       width=\"24px\">\n",
              "    <path d=\"M0 0h24v24H0V0z\" fill=\"none\"/>\n",
              "    <path d=\"M18.56 5.44l.94 2.06.94-2.06 2.06-.94-2.06-.94-.94-2.06-.94 2.06-2.06.94zm-11 1L8.5 8.5l.94-2.06 2.06-.94-2.06-.94L8.5 2.5l-.94 2.06-2.06.94zm10 10l.94 2.06.94-2.06 2.06-.94-2.06-.94-.94-2.06-.94 2.06-2.06.94z\"/><path d=\"M17.41 7.96l-1.37-1.37c-.4-.4-.92-.59-1.43-.59-.52 0-1.04.2-1.43.59L10.3 9.45l-7.72 7.72c-.78.78-.78 2.05 0 2.83L4 21.41c.39.39.9.59 1.41.59.51 0 1.02-.2 1.41-.59l7.78-7.78 2.81-2.81c.8-.78.8-2.07 0-2.86zM5.41 20L4 18.59l7.72-7.72 1.47 1.35L5.41 20z\"/>\n",
              "  </svg>\n",
              "      </button>\n",
              "      \n",
              "  <style>\n",
              "    .colab-df-container {\n",
              "      display:flex;\n",
              "      flex-wrap:wrap;\n",
              "      gap: 12px;\n",
              "    }\n",
              "\n",
              "    .colab-df-convert {\n",
              "      background-color: #E8F0FE;\n",
              "      border: none;\n",
              "      border-radius: 50%;\n",
              "      cursor: pointer;\n",
              "      display: none;\n",
              "      fill: #1967D2;\n",
              "      height: 32px;\n",
              "      padding: 0 0 0 0;\n",
              "      width: 32px;\n",
              "    }\n",
              "\n",
              "    .colab-df-convert:hover {\n",
              "      background-color: #E2EBFA;\n",
              "      box-shadow: 0px 1px 2px rgba(60, 64, 67, 0.3), 0px 1px 3px 1px rgba(60, 64, 67, 0.15);\n",
              "      fill: #174EA6;\n",
              "    }\n",
              "\n",
              "    [theme=dark] .colab-df-convert {\n",
              "      background-color: #3B4455;\n",
              "      fill: #D2E3FC;\n",
              "    }\n",
              "\n",
              "    [theme=dark] .colab-df-convert:hover {\n",
              "      background-color: #434B5C;\n",
              "      box-shadow: 0px 1px 3px 1px rgba(0, 0, 0, 0.15);\n",
              "      filter: drop-shadow(0px 1px 2px rgba(0, 0, 0, 0.3));\n",
              "      fill: #FFFFFF;\n",
              "    }\n",
              "  </style>\n",
              "\n",
              "      <script>\n",
              "        const buttonEl =\n",
              "          document.querySelector('#df-dc2a6d34-22d1-4573-a9fc-191d64da7355 button.colab-df-convert');\n",
              "        buttonEl.style.display =\n",
              "          google.colab.kernel.accessAllowed ? 'block' : 'none';\n",
              "\n",
              "        async function convertToInteractive(key) {\n",
              "          const element = document.querySelector('#df-dc2a6d34-22d1-4573-a9fc-191d64da7355');\n",
              "          const dataTable =\n",
              "            await google.colab.kernel.invokeFunction('convertToInteractive',\n",
              "                                                     [key], {});\n",
              "          if (!dataTable) return;\n",
              "\n",
              "          const docLinkHtml = 'Like what you see? Visit the ' +\n",
              "            '<a target=\"_blank\" href=https://colab.research.google.com/notebooks/data_table.ipynb>data table notebook</a>'\n",
              "            + ' to learn more about interactive tables.';\n",
              "          element.innerHTML = '';\n",
              "          dataTable['output_type'] = 'display_data';\n",
              "          await google.colab.output.renderOutput(dataTable, element);\n",
              "          const docLink = document.createElement('div');\n",
              "          docLink.innerHTML = docLinkHtml;\n",
              "          element.appendChild(docLink);\n",
              "        }\n",
              "      </script>\n",
              "    </div>\n",
              "  </div>\n",
              "  "
            ]
          },
          "metadata": {},
          "execution_count": 12
        }
      ]
    },
    {
      "cell_type": "code",
      "source": [
        "import tensorflow_hub as hub\n",
        "\n",
        "embed = hub.load(\"https://tfhub.dev/google/universal-sentence-encoder/4\")"
      ],
      "metadata": {
        "id": "RmkNrbrYXXV4"
      },
      "execution_count": 13,
      "outputs": []
    },
    {
      "cell_type": "code",
      "source": [
        "def feature_USE_fct(sentences, b_size) :\n",
        "    batch_size = b_size\n",
        "    time1 = time.time()\n",
        "\n",
        "    for step in range(len(sentences)//batch_size) :\n",
        "        idx = step*batch_size\n",
        "        feat = embed(sentences[idx:idx+batch_size])\n",
        "\n",
        "        if step ==0 :\n",
        "            features = feat\n",
        "        else :\n",
        "            features = np.concatenate((features,feat))\n",
        "\n",
        "    time2 = np.round(time.time() - time1,0)\n",
        "    return features"
      ],
      "metadata": {
        "id": "SRaIh21XW6aC"
      },
      "execution_count": 14,
      "outputs": []
    },
    {
      "cell_type": "code",
      "source": [
        "batch_size = 10\n",
        "sentences = data['Title_clean'].to_list()"
      ],
      "metadata": {
        "id": "Azx1J2v_XAwO"
      },
      "execution_count": 15,
      "outputs": []
    },
    {
      "cell_type": "code",
      "source": [
        "features_USE = feature_USE_fct(sentences, batch_size)"
      ],
      "metadata": {
        "id": "V-4SkyDGXHuE"
      },
      "execution_count": 16,
      "outputs": []
    },
    {
      "cell_type": "code",
      "source": [
        "data = data.join(pd.DataFrame(features_USE))"
      ],
      "metadata": {
        "id": "nCOBWbE_XJiF"
      },
      "execution_count": 17,
      "outputs": []
    },
    {
      "cell_type": "code",
      "source": [
        "for tag in top_10_tags :\n",
        "    data['is' + tag] = 0\n",
        "    index = 0\n",
        "    for doc_tag in data['Tags'] :\n",
        "        if not pd.isnull(doc_tag) :\n",
        "          if tag in doc_tag :\n",
        "            data.loc[index, 'is' + tag] = 1\n",
        "        index += 1"
      ],
      "metadata": {
        "id": "VnH6ePuaPG2z"
      },
      "execution_count": 18,
      "outputs": []
    },
    {
      "cell_type": "code",
      "source": [
        "data"
      ],
      "metadata": {
        "colab": {
          "base_uri": "https://localhost:8080/",
          "height": 823
        },
        "id": "zYUP0kZOSsgE",
        "outputId": "757e4618-de87-4103-b0eb-c65891be966a"
      },
      "execution_count": 19,
      "outputs": [
        {
          "output_type": "execute_result",
          "data": {
            "text/plain": [
              "                                                   Title  \\\n",
              "0      How to import self-signed SSL certificate to V...   \n",
              "1            Getting Windows OS version programmatically   \n",
              "2                             Rounded Corners on UIImage   \n",
              "3                       Android Gauge Animation Question   \n",
              "4      pandas - change df.index from float64 to unico...   \n",
              "...                                                  ...   \n",
              "10573                        DateTimeOffset.Now in T-SQL   \n",
              "10574  Which GoF Design pattern will be changed or in...   \n",
              "10575  How to define a more aggressive timeout for Ht...   \n",
              "10576   iOS 7 app crashes when changing calendar privacy   \n",
              "10577            Will this lead to a memory leak in C++?   \n",
              "\n",
              "                                             Title_clean  \\\n",
              "0      import selfsigned ssl certificate volley android    \n",
              "1                get windows os version programmatically   \n",
              "2                                  round corners uiimage   \n",
              "3                       android gauge animation question   \n",
              "4            pandas  change dfindex float unicode string   \n",
              "...                                                  ...   \n",
              "10573                             datetimeoffsetnow tsql   \n",
              "10574  gof design pattern change influence introducti...   \n",
              "10575          define aggressive timeout httpwebrequest    \n",
              "10576           ios  app crashes change calendar privacy   \n",
              "10577                              lead memory leak c++    \n",
              "\n",
              "                                   Tags         0         1         2  \\\n",
              "0                           ['android'] -0.049040 -0.017037 -0.062048   \n",
              "1                     ['c#', 'windows'] -0.070347  0.005683 -0.038418   \n",
              "2      ['ios', 'iphone', 'objective-c'] -0.056571 -0.002925  0.008424   \n",
              "3                           ['android'] -0.028710  0.004977  0.024333   \n",
              "4                            ['python'] -0.043451 -0.069809  0.026422   \n",
              "...                                 ...       ...       ...       ...   \n",
              "10573             ['sql', 'sql-server']       NaN       NaN       NaN   \n",
              "10574                          ['java']       NaN       NaN       NaN   \n",
              "10575                    ['c#', '.net']       NaN       NaN       NaN   \n",
              "10576                  ['ios', 'xcode']       NaN       NaN       NaN   \n",
              "10577                           ['c++']       NaN       NaN       NaN   \n",
              "\n",
              "              3         4         5         6  ...  isc#  isjava  \\\n",
              "0      0.047834  0.012593  0.067784 -0.033927  ...     0       0   \n",
              "1     -0.017030  0.024135  0.029856 -0.005335  ...     1       0   \n",
              "2      0.023003  0.062388 -0.068799 -0.000654  ...     0       0   \n",
              "3     -0.023212 -0.023399 -0.067385 -0.003584  ...     0       0   \n",
              "4      0.066117  0.058382 -0.048583 -0.055396  ...     0       0   \n",
              "...         ...       ...       ...       ...  ...   ...     ...   \n",
              "10573       NaN       NaN       NaN       NaN  ...     0       0   \n",
              "10574       NaN       NaN       NaN       NaN  ...     0       1   \n",
              "10575       NaN       NaN       NaN       NaN  ...     1       0   \n",
              "10576       NaN       NaN       NaN       NaN  ...     0       0   \n",
              "10577       NaN       NaN       NaN       NaN  ...     0       0   \n",
              "\n",
              "       isjavascript  ispython  isc++  isios  isandroid  is.net  ishtml  isphp  \n",
              "0                 0         0      0      0          1       0       0      0  \n",
              "1                 0         0      0      0          0       0       0      0  \n",
              "2                 0         0      0      1          0       0       0      0  \n",
              "3                 0         0      0      0          1       0       0      0  \n",
              "4                 0         1      0      0          0       0       0      0  \n",
              "...             ...       ...    ...    ...        ...     ...     ...    ...  \n",
              "10573             0         0      0      0          0       0       0      0  \n",
              "10574             0         0      0      0          0       0       0      0  \n",
              "10575             0         0      0      0          0       1       0      0  \n",
              "10576             0         0      0      1          0       0       0      0  \n",
              "10577             0         0      1      0          0       0       0      0  \n",
              "\n",
              "[10578 rows x 525 columns]"
            ],
            "text/html": [
              "\n",
              "  <div id=\"df-f9b68036-f864-447a-8a8d-151c6779f20b\">\n",
              "    <div class=\"colab-df-container\">\n",
              "      <div>\n",
              "<style scoped>\n",
              "    .dataframe tbody tr th:only-of-type {\n",
              "        vertical-align: middle;\n",
              "    }\n",
              "\n",
              "    .dataframe tbody tr th {\n",
              "        vertical-align: top;\n",
              "    }\n",
              "\n",
              "    .dataframe thead th {\n",
              "        text-align: right;\n",
              "    }\n",
              "</style>\n",
              "<table border=\"1\" class=\"dataframe\">\n",
              "  <thead>\n",
              "    <tr style=\"text-align: right;\">\n",
              "      <th></th>\n",
              "      <th>Title</th>\n",
              "      <th>Title_clean</th>\n",
              "      <th>Tags</th>\n",
              "      <th>0</th>\n",
              "      <th>1</th>\n",
              "      <th>2</th>\n",
              "      <th>3</th>\n",
              "      <th>4</th>\n",
              "      <th>5</th>\n",
              "      <th>6</th>\n",
              "      <th>...</th>\n",
              "      <th>isc#</th>\n",
              "      <th>isjava</th>\n",
              "      <th>isjavascript</th>\n",
              "      <th>ispython</th>\n",
              "      <th>isc++</th>\n",
              "      <th>isios</th>\n",
              "      <th>isandroid</th>\n",
              "      <th>is.net</th>\n",
              "      <th>ishtml</th>\n",
              "      <th>isphp</th>\n",
              "    </tr>\n",
              "  </thead>\n",
              "  <tbody>\n",
              "    <tr>\n",
              "      <th>0</th>\n",
              "      <td>How to import self-signed SSL certificate to V...</td>\n",
              "      <td>import selfsigned ssl certificate volley android</td>\n",
              "      <td>['android']</td>\n",
              "      <td>-0.049040</td>\n",
              "      <td>-0.017037</td>\n",
              "      <td>-0.062048</td>\n",
              "      <td>0.047834</td>\n",
              "      <td>0.012593</td>\n",
              "      <td>0.067784</td>\n",
              "      <td>-0.033927</td>\n",
              "      <td>...</td>\n",
              "      <td>0</td>\n",
              "      <td>0</td>\n",
              "      <td>0</td>\n",
              "      <td>0</td>\n",
              "      <td>0</td>\n",
              "      <td>0</td>\n",
              "      <td>1</td>\n",
              "      <td>0</td>\n",
              "      <td>0</td>\n",
              "      <td>0</td>\n",
              "    </tr>\n",
              "    <tr>\n",
              "      <th>1</th>\n",
              "      <td>Getting Windows OS version programmatically</td>\n",
              "      <td>get windows os version programmatically</td>\n",
              "      <td>['c#', 'windows']</td>\n",
              "      <td>-0.070347</td>\n",
              "      <td>0.005683</td>\n",
              "      <td>-0.038418</td>\n",
              "      <td>-0.017030</td>\n",
              "      <td>0.024135</td>\n",
              "      <td>0.029856</td>\n",
              "      <td>-0.005335</td>\n",
              "      <td>...</td>\n",
              "      <td>1</td>\n",
              "      <td>0</td>\n",
              "      <td>0</td>\n",
              "      <td>0</td>\n",
              "      <td>0</td>\n",
              "      <td>0</td>\n",
              "      <td>0</td>\n",
              "      <td>0</td>\n",
              "      <td>0</td>\n",
              "      <td>0</td>\n",
              "    </tr>\n",
              "    <tr>\n",
              "      <th>2</th>\n",
              "      <td>Rounded Corners on UIImage</td>\n",
              "      <td>round corners uiimage</td>\n",
              "      <td>['ios', 'iphone', 'objective-c']</td>\n",
              "      <td>-0.056571</td>\n",
              "      <td>-0.002925</td>\n",
              "      <td>0.008424</td>\n",
              "      <td>0.023003</td>\n",
              "      <td>0.062388</td>\n",
              "      <td>-0.068799</td>\n",
              "      <td>-0.000654</td>\n",
              "      <td>...</td>\n",
              "      <td>0</td>\n",
              "      <td>0</td>\n",
              "      <td>0</td>\n",
              "      <td>0</td>\n",
              "      <td>0</td>\n",
              "      <td>1</td>\n",
              "      <td>0</td>\n",
              "      <td>0</td>\n",
              "      <td>0</td>\n",
              "      <td>0</td>\n",
              "    </tr>\n",
              "    <tr>\n",
              "      <th>3</th>\n",
              "      <td>Android Gauge Animation Question</td>\n",
              "      <td>android gauge animation question</td>\n",
              "      <td>['android']</td>\n",
              "      <td>-0.028710</td>\n",
              "      <td>0.004977</td>\n",
              "      <td>0.024333</td>\n",
              "      <td>-0.023212</td>\n",
              "      <td>-0.023399</td>\n",
              "      <td>-0.067385</td>\n",
              "      <td>-0.003584</td>\n",
              "      <td>...</td>\n",
              "      <td>0</td>\n",
              "      <td>0</td>\n",
              "      <td>0</td>\n",
              "      <td>0</td>\n",
              "      <td>0</td>\n",
              "      <td>0</td>\n",
              "      <td>1</td>\n",
              "      <td>0</td>\n",
              "      <td>0</td>\n",
              "      <td>0</td>\n",
              "    </tr>\n",
              "    <tr>\n",
              "      <th>4</th>\n",
              "      <td>pandas - change df.index from float64 to unico...</td>\n",
              "      <td>pandas  change dfindex float unicode string</td>\n",
              "      <td>['python']</td>\n",
              "      <td>-0.043451</td>\n",
              "      <td>-0.069809</td>\n",
              "      <td>0.026422</td>\n",
              "      <td>0.066117</td>\n",
              "      <td>0.058382</td>\n",
              "      <td>-0.048583</td>\n",
              "      <td>-0.055396</td>\n",
              "      <td>...</td>\n",
              "      <td>0</td>\n",
              "      <td>0</td>\n",
              "      <td>0</td>\n",
              "      <td>1</td>\n",
              "      <td>0</td>\n",
              "      <td>0</td>\n",
              "      <td>0</td>\n",
              "      <td>0</td>\n",
              "      <td>0</td>\n",
              "      <td>0</td>\n",
              "    </tr>\n",
              "    <tr>\n",
              "      <th>...</th>\n",
              "      <td>...</td>\n",
              "      <td>...</td>\n",
              "      <td>...</td>\n",
              "      <td>...</td>\n",
              "      <td>...</td>\n",
              "      <td>...</td>\n",
              "      <td>...</td>\n",
              "      <td>...</td>\n",
              "      <td>...</td>\n",
              "      <td>...</td>\n",
              "      <td>...</td>\n",
              "      <td>...</td>\n",
              "      <td>...</td>\n",
              "      <td>...</td>\n",
              "      <td>...</td>\n",
              "      <td>...</td>\n",
              "      <td>...</td>\n",
              "      <td>...</td>\n",
              "      <td>...</td>\n",
              "      <td>...</td>\n",
              "      <td>...</td>\n",
              "    </tr>\n",
              "    <tr>\n",
              "      <th>10573</th>\n",
              "      <td>DateTimeOffset.Now in T-SQL</td>\n",
              "      <td>datetimeoffsetnow tsql</td>\n",
              "      <td>['sql', 'sql-server']</td>\n",
              "      <td>NaN</td>\n",
              "      <td>NaN</td>\n",
              "      <td>NaN</td>\n",
              "      <td>NaN</td>\n",
              "      <td>NaN</td>\n",
              "      <td>NaN</td>\n",
              "      <td>NaN</td>\n",
              "      <td>...</td>\n",
              "      <td>0</td>\n",
              "      <td>0</td>\n",
              "      <td>0</td>\n",
              "      <td>0</td>\n",
              "      <td>0</td>\n",
              "      <td>0</td>\n",
              "      <td>0</td>\n",
              "      <td>0</td>\n",
              "      <td>0</td>\n",
              "      <td>0</td>\n",
              "    </tr>\n",
              "    <tr>\n",
              "      <th>10574</th>\n",
              "      <td>Which GoF Design pattern will be changed or in...</td>\n",
              "      <td>gof design pattern change influence introducti...</td>\n",
              "      <td>['java']</td>\n",
              "      <td>NaN</td>\n",
              "      <td>NaN</td>\n",
              "      <td>NaN</td>\n",
              "      <td>NaN</td>\n",
              "      <td>NaN</td>\n",
              "      <td>NaN</td>\n",
              "      <td>NaN</td>\n",
              "      <td>...</td>\n",
              "      <td>0</td>\n",
              "      <td>1</td>\n",
              "      <td>0</td>\n",
              "      <td>0</td>\n",
              "      <td>0</td>\n",
              "      <td>0</td>\n",
              "      <td>0</td>\n",
              "      <td>0</td>\n",
              "      <td>0</td>\n",
              "      <td>0</td>\n",
              "    </tr>\n",
              "    <tr>\n",
              "      <th>10575</th>\n",
              "      <td>How to define a more aggressive timeout for Ht...</td>\n",
              "      <td>define aggressive timeout httpwebrequest</td>\n",
              "      <td>['c#', '.net']</td>\n",
              "      <td>NaN</td>\n",
              "      <td>NaN</td>\n",
              "      <td>NaN</td>\n",
              "      <td>NaN</td>\n",
              "      <td>NaN</td>\n",
              "      <td>NaN</td>\n",
              "      <td>NaN</td>\n",
              "      <td>...</td>\n",
              "      <td>1</td>\n",
              "      <td>0</td>\n",
              "      <td>0</td>\n",
              "      <td>0</td>\n",
              "      <td>0</td>\n",
              "      <td>0</td>\n",
              "      <td>0</td>\n",
              "      <td>1</td>\n",
              "      <td>0</td>\n",
              "      <td>0</td>\n",
              "    </tr>\n",
              "    <tr>\n",
              "      <th>10576</th>\n",
              "      <td>iOS 7 app crashes when changing calendar privacy</td>\n",
              "      <td>ios  app crashes change calendar privacy</td>\n",
              "      <td>['ios', 'xcode']</td>\n",
              "      <td>NaN</td>\n",
              "      <td>NaN</td>\n",
              "      <td>NaN</td>\n",
              "      <td>NaN</td>\n",
              "      <td>NaN</td>\n",
              "      <td>NaN</td>\n",
              "      <td>NaN</td>\n",
              "      <td>...</td>\n",
              "      <td>0</td>\n",
              "      <td>0</td>\n",
              "      <td>0</td>\n",
              "      <td>0</td>\n",
              "      <td>0</td>\n",
              "      <td>1</td>\n",
              "      <td>0</td>\n",
              "      <td>0</td>\n",
              "      <td>0</td>\n",
              "      <td>0</td>\n",
              "    </tr>\n",
              "    <tr>\n",
              "      <th>10577</th>\n",
              "      <td>Will this lead to a memory leak in C++?</td>\n",
              "      <td>lead memory leak c++</td>\n",
              "      <td>['c++']</td>\n",
              "      <td>NaN</td>\n",
              "      <td>NaN</td>\n",
              "      <td>NaN</td>\n",
              "      <td>NaN</td>\n",
              "      <td>NaN</td>\n",
              "      <td>NaN</td>\n",
              "      <td>NaN</td>\n",
              "      <td>...</td>\n",
              "      <td>0</td>\n",
              "      <td>0</td>\n",
              "      <td>0</td>\n",
              "      <td>0</td>\n",
              "      <td>1</td>\n",
              "      <td>0</td>\n",
              "      <td>0</td>\n",
              "      <td>0</td>\n",
              "      <td>0</td>\n",
              "      <td>0</td>\n",
              "    </tr>\n",
              "  </tbody>\n",
              "</table>\n",
              "<p>10578 rows × 525 columns</p>\n",
              "</div>\n",
              "      <button class=\"colab-df-convert\" onclick=\"convertToInteractive('df-f9b68036-f864-447a-8a8d-151c6779f20b')\"\n",
              "              title=\"Convert this dataframe to an interactive table.\"\n",
              "              style=\"display:none;\">\n",
              "        \n",
              "  <svg xmlns=\"http://www.w3.org/2000/svg\" height=\"24px\"viewBox=\"0 0 24 24\"\n",
              "       width=\"24px\">\n",
              "    <path d=\"M0 0h24v24H0V0z\" fill=\"none\"/>\n",
              "    <path d=\"M18.56 5.44l.94 2.06.94-2.06 2.06-.94-2.06-.94-.94-2.06-.94 2.06-2.06.94zm-11 1L8.5 8.5l.94-2.06 2.06-.94-2.06-.94L8.5 2.5l-.94 2.06-2.06.94zm10 10l.94 2.06.94-2.06 2.06-.94-2.06-.94-.94-2.06-.94 2.06-2.06.94z\"/><path d=\"M17.41 7.96l-1.37-1.37c-.4-.4-.92-.59-1.43-.59-.52 0-1.04.2-1.43.59L10.3 9.45l-7.72 7.72c-.78.78-.78 2.05 0 2.83L4 21.41c.39.39.9.59 1.41.59.51 0 1.02-.2 1.41-.59l7.78-7.78 2.81-2.81c.8-.78.8-2.07 0-2.86zM5.41 20L4 18.59l7.72-7.72 1.47 1.35L5.41 20z\"/>\n",
              "  </svg>\n",
              "      </button>\n",
              "      \n",
              "  <style>\n",
              "    .colab-df-container {\n",
              "      display:flex;\n",
              "      flex-wrap:wrap;\n",
              "      gap: 12px;\n",
              "    }\n",
              "\n",
              "    .colab-df-convert {\n",
              "      background-color: #E8F0FE;\n",
              "      border: none;\n",
              "      border-radius: 50%;\n",
              "      cursor: pointer;\n",
              "      display: none;\n",
              "      fill: #1967D2;\n",
              "      height: 32px;\n",
              "      padding: 0 0 0 0;\n",
              "      width: 32px;\n",
              "    }\n",
              "\n",
              "    .colab-df-convert:hover {\n",
              "      background-color: #E2EBFA;\n",
              "      box-shadow: 0px 1px 2px rgba(60, 64, 67, 0.3), 0px 1px 3px 1px rgba(60, 64, 67, 0.15);\n",
              "      fill: #174EA6;\n",
              "    }\n",
              "\n",
              "    [theme=dark] .colab-df-convert {\n",
              "      background-color: #3B4455;\n",
              "      fill: #D2E3FC;\n",
              "    }\n",
              "\n",
              "    [theme=dark] .colab-df-convert:hover {\n",
              "      background-color: #434B5C;\n",
              "      box-shadow: 0px 1px 3px 1px rgba(0, 0, 0, 0.15);\n",
              "      filter: drop-shadow(0px 1px 2px rgba(0, 0, 0, 0.3));\n",
              "      fill: #FFFFFF;\n",
              "    }\n",
              "  </style>\n",
              "\n",
              "      <script>\n",
              "        const buttonEl =\n",
              "          document.querySelector('#df-f9b68036-f864-447a-8a8d-151c6779f20b button.colab-df-convert');\n",
              "        buttonEl.style.display =\n",
              "          google.colab.kernel.accessAllowed ? 'block' : 'none';\n",
              "\n",
              "        async function convertToInteractive(key) {\n",
              "          const element = document.querySelector('#df-f9b68036-f864-447a-8a8d-151c6779f20b');\n",
              "          const dataTable =\n",
              "            await google.colab.kernel.invokeFunction('convertToInteractive',\n",
              "                                                     [key], {});\n",
              "          if (!dataTable) return;\n",
              "\n",
              "          const docLinkHtml = 'Like what you see? Visit the ' +\n",
              "            '<a target=\"_blank\" href=https://colab.research.google.com/notebooks/data_table.ipynb>data table notebook</a>'\n",
              "            + ' to learn more about interactive tables.';\n",
              "          element.innerHTML = '';\n",
              "          dataTable['output_type'] = 'display_data';\n",
              "          await google.colab.output.renderOutput(dataTable, element);\n",
              "          const docLink = document.createElement('div');\n",
              "          docLink.innerHTML = docLinkHtml;\n",
              "          element.appendChild(docLink);\n",
              "        }\n",
              "      </script>\n",
              "    </div>\n",
              "  </div>\n",
              "  "
            ]
          },
          "metadata": {},
          "execution_count": 19
        }
      ]
    },
    {
      "cell_type": "code",
      "source": [
        "X = data.iloc[:,3:-10]\n",
        "y = data.iloc[:,-10:]"
      ],
      "metadata": {
        "id": "oNCvrTh6PP3X"
      },
      "execution_count": 20,
      "outputs": []
    },
    {
      "cell_type": "code",
      "source": [
        "X = X[~X[0].isna()]\n",
        "y = y.iloc[X.index]"
      ],
      "metadata": {
        "id": "8hfRKB0HP7ix"
      },
      "execution_count": 21,
      "outputs": []
    },
    {
      "cell_type": "code",
      "source": [
        "X_train, X_test, y_train, y_test = train_test_split(X, y, test_size = 0.33, random_state = 42)"
      ],
      "metadata": {
        "id": "zAOVHZA8PwfJ"
      },
      "execution_count": 22,
      "outputs": []
    },
    {
      "cell_type": "code",
      "source": [
        "%%time\n",
        "mclr = MultiOutputClassifier(LogisticRegression(max_iter = 1000)).fit(X_train, y_train)"
      ],
      "metadata": {
        "colab": {
          "base_uri": "https://localhost:8080/"
        },
        "id": "J4BSWCKKPzjO",
        "outputId": "40e339ec-461c-4eb6-b55a-b507c26c24cf"
      },
      "execution_count": 23,
      "outputs": [
        {
          "output_type": "stream",
          "name": "stdout",
          "text": [
            "CPU times: user 5.09 s, sys: 1.26 s, total: 6.35 s\n",
            "Wall time: 3.43 s\n"
          ]
        }
      ]
    },
    {
      "cell_type": "code",
      "source": [
        "mclr.score(X_train, y_train)"
      ],
      "metadata": {
        "colab": {
          "base_uri": "https://localhost:8080/"
        },
        "id": "lcwFKN2KP1FR",
        "outputId": "568841fe-3d12-4c1d-a7bb-0b7bd2baf482"
      },
      "execution_count": 24,
      "outputs": [
        {
          "output_type": "execute_result",
          "data": {
            "text/plain": [
              "0.5445558536929812"
            ]
          },
          "metadata": {},
          "execution_count": 24
        }
      ]
    },
    {
      "cell_type": "code",
      "source": [
        "mclr.score(X_test, y_test)"
      ],
      "metadata": {
        "colab": {
          "base_uri": "https://localhost:8080/"
        },
        "id": "1DomobghTFSi",
        "outputId": "9dd89281-78ab-4af1-d31b-ded83392ceed"
      },
      "execution_count": 25,
      "outputs": [
        {
          "output_type": "execute_result",
          "data": {
            "text/plain": [
              "0.5176268271711092"
            ]
          },
          "metadata": {},
          "execution_count": 25
        }
      ]
    },
    {
      "cell_type": "code",
      "source": [
        "jaccard_score(y_test, mclr.predict(X_test), average = 'micro')"
      ],
      "metadata": {
        "colab": {
          "base_uri": "https://localhost:8080/"
        },
        "id": "aqTV9NkfTG0d",
        "outputId": "214b0731-179f-4722-a6ce-54d7304fb650"
      },
      "execution_count": 26,
      "outputs": [
        {
          "output_type": "execute_result",
          "data": {
            "text/plain": [
              "0.4907732864674868"
            ]
          },
          "metadata": {},
          "execution_count": 26
        }
      ]
    },
    {
      "cell_type": "code",
      "source": [
        "def clean_output(result) :\n",
        "\n",
        "  output_tags_list = []\n",
        "\n",
        "  for i in range(len(result)) :\n",
        "    if result[i] == 1 :\n",
        "      output_tags_list.append(\"#\" + top_10_tags[i])\n",
        "\n",
        "  return output_tags_list"
      ],
      "metadata": {
        "id": "vJ-FPyDK_6te"
      },
      "execution_count": 27,
      "outputs": []
    },
    {
      "cell_type": "code",
      "source": [
        "from sklearn.pipeline import Pipeline\n",
        "from sklearn.preprocessing import FunctionTransformer"
      ],
      "metadata": {
        "id": "mg4a3CvRlgqn"
      },
      "execution_count": 28,
      "outputs": []
    },
    {
      "cell_type": "code",
      "source": [
        "transformer = FunctionTransformer(feature_USE_fct, kw_args={'b_size':10}, validate = True)"
      ],
      "metadata": {
        "id": "PfrBSmUamofU"
      },
      "execution_count": 29,
      "outputs": []
    },
    {
      "cell_type": "code",
      "source": [
        "transformer.fit(X_train, y_train)\n",
        "mclr.fit(X_train, y_train)"
      ],
      "metadata": {
        "colab": {
          "base_uri": "https://localhost:8080/",
          "height": 115
        },
        "id": "kdes-1k1qTBX",
        "outputId": "2d11dded-1363-4fba-949e-e18ca73c6043"
      },
      "execution_count": 30,
      "outputs": [
        {
          "output_type": "execute_result",
          "data": {
            "text/plain": [
              "MultiOutputClassifier(estimator=LogisticRegression(max_iter=1000))"
            ],
            "text/html": [
              "<style>#sk-container-id-1 {color: black;background-color: white;}#sk-container-id-1 pre{padding: 0;}#sk-container-id-1 div.sk-toggleable {background-color: white;}#sk-container-id-1 label.sk-toggleable__label {cursor: pointer;display: block;width: 100%;margin-bottom: 0;padding: 0.3em;box-sizing: border-box;text-align: center;}#sk-container-id-1 label.sk-toggleable__label-arrow:before {content: \"▸\";float: left;margin-right: 0.25em;color: #696969;}#sk-container-id-1 label.sk-toggleable__label-arrow:hover:before {color: black;}#sk-container-id-1 div.sk-estimator:hover label.sk-toggleable__label-arrow:before {color: black;}#sk-container-id-1 div.sk-toggleable__content {max-height: 0;max-width: 0;overflow: hidden;text-align: left;background-color: #f0f8ff;}#sk-container-id-1 div.sk-toggleable__content pre {margin: 0.2em;color: black;border-radius: 0.25em;background-color: #f0f8ff;}#sk-container-id-1 input.sk-toggleable__control:checked~div.sk-toggleable__content {max-height: 200px;max-width: 100%;overflow: auto;}#sk-container-id-1 input.sk-toggleable__control:checked~label.sk-toggleable__label-arrow:before {content: \"▾\";}#sk-container-id-1 div.sk-estimator input.sk-toggleable__control:checked~label.sk-toggleable__label {background-color: #d4ebff;}#sk-container-id-1 div.sk-label input.sk-toggleable__control:checked~label.sk-toggleable__label {background-color: #d4ebff;}#sk-container-id-1 input.sk-hidden--visually {border: 0;clip: rect(1px 1px 1px 1px);clip: rect(1px, 1px, 1px, 1px);height: 1px;margin: -1px;overflow: hidden;padding: 0;position: absolute;width: 1px;}#sk-container-id-1 div.sk-estimator {font-family: monospace;background-color: #f0f8ff;border: 1px dotted black;border-radius: 0.25em;box-sizing: border-box;margin-bottom: 0.5em;}#sk-container-id-1 div.sk-estimator:hover {background-color: #d4ebff;}#sk-container-id-1 div.sk-parallel-item::after {content: \"\";width: 100%;border-bottom: 1px solid gray;flex-grow: 1;}#sk-container-id-1 div.sk-label:hover label.sk-toggleable__label {background-color: #d4ebff;}#sk-container-id-1 div.sk-serial::before {content: \"\";position: absolute;border-left: 1px solid gray;box-sizing: border-box;top: 0;bottom: 0;left: 50%;z-index: 0;}#sk-container-id-1 div.sk-serial {display: flex;flex-direction: column;align-items: center;background-color: white;padding-right: 0.2em;padding-left: 0.2em;position: relative;}#sk-container-id-1 div.sk-item {position: relative;z-index: 1;}#sk-container-id-1 div.sk-parallel {display: flex;align-items: stretch;justify-content: center;background-color: white;position: relative;}#sk-container-id-1 div.sk-item::before, #sk-container-id-1 div.sk-parallel-item::before {content: \"\";position: absolute;border-left: 1px solid gray;box-sizing: border-box;top: 0;bottom: 0;left: 50%;z-index: -1;}#sk-container-id-1 div.sk-parallel-item {display: flex;flex-direction: column;z-index: 1;position: relative;background-color: white;}#sk-container-id-1 div.sk-parallel-item:first-child::after {align-self: flex-end;width: 50%;}#sk-container-id-1 div.sk-parallel-item:last-child::after {align-self: flex-start;width: 50%;}#sk-container-id-1 div.sk-parallel-item:only-child::after {width: 0;}#sk-container-id-1 div.sk-dashed-wrapped {border: 1px dashed gray;margin: 0 0.4em 0.5em 0.4em;box-sizing: border-box;padding-bottom: 0.4em;background-color: white;}#sk-container-id-1 div.sk-label label {font-family: monospace;font-weight: bold;display: inline-block;line-height: 1.2em;}#sk-container-id-1 div.sk-label-container {text-align: center;}#sk-container-id-1 div.sk-container {/* jupyter's `normalize.less` sets `[hidden] { display: none; }` but bootstrap.min.css set `[hidden] { display: none !important; }` so we also need the `!important` here to be able to override the default hidden behavior on the sphinx rendered scikit-learn.org. See: https://github.com/scikit-learn/scikit-learn/issues/21755 */display: inline-block !important;position: relative;}#sk-container-id-1 div.sk-text-repr-fallback {display: none;}</style><div id=\"sk-container-id-1\" class=\"sk-top-container\"><div class=\"sk-text-repr-fallback\"><pre>MultiOutputClassifier(estimator=LogisticRegression(max_iter=1000))</pre><b>In a Jupyter environment, please rerun this cell to show the HTML representation or trust the notebook. <br />On GitHub, the HTML representation is unable to render, please try loading this page with nbviewer.org.</b></div><div class=\"sk-container\" hidden><div class=\"sk-item sk-dashed-wrapped\"><div class=\"sk-label-container\"><div class=\"sk-label sk-toggleable\"><input class=\"sk-toggleable__control sk-hidden--visually\" id=\"sk-estimator-id-1\" type=\"checkbox\" ><label for=\"sk-estimator-id-1\" class=\"sk-toggleable__label sk-toggleable__label-arrow\">MultiOutputClassifier</label><div class=\"sk-toggleable__content\"><pre>MultiOutputClassifier(estimator=LogisticRegression(max_iter=1000))</pre></div></div></div><div class=\"sk-parallel\"><div class=\"sk-parallel-item\"><div class=\"sk-item\"><div class=\"sk-label-container\"><div class=\"sk-label sk-toggleable\"><input class=\"sk-toggleable__control sk-hidden--visually\" id=\"sk-estimator-id-2\" type=\"checkbox\" ><label for=\"sk-estimator-id-2\" class=\"sk-toggleable__label sk-toggleable__label-arrow\">estimator: LogisticRegression</label><div class=\"sk-toggleable__content\"><pre>LogisticRegression(max_iter=1000)</pre></div></div></div><div class=\"sk-serial\"><div class=\"sk-item\"><div class=\"sk-estimator sk-toggleable\"><input class=\"sk-toggleable__control sk-hidden--visually\" id=\"sk-estimator-id-3\" type=\"checkbox\" ><label for=\"sk-estimator-id-3\" class=\"sk-toggleable__label sk-toggleable__label-arrow\">LogisticRegression</label><div class=\"sk-toggleable__content\"><pre>LogisticRegression(max_iter=1000)</pre></div></div></div></div></div></div></div></div></div></div>"
            ]
          },
          "metadata": {},
          "execution_count": 30
        }
      ]
    },
    {
      "cell_type": "code",
      "source": [
        "pipe = Pipeline([('USE', transformer), ('MultiLogReg', mclr)], verbose = True)"
      ],
      "metadata": {
        "id": "RPvwuJuAlgtC"
      },
      "execution_count": 31,
      "outputs": []
    },
    {
      "cell_type": "code",
      "source": [
        "from joblib import dump"
      ],
      "metadata": {
        "id": "IXAlTNgVlLMc"
      },
      "execution_count": 32,
      "outputs": []
    },
    {
      "cell_type": "code",
      "source": [
        "dump(pipe, 'trained_use_logreg.joblib')"
      ],
      "metadata": {
        "colab": {
          "base_uri": "https://localhost:8080/"
        },
        "id": "eFj8b4hKlgv0",
        "outputId": "2bd9b8cd-3e37-4463-922e-2b0d3771a5df"
      },
      "execution_count": 33,
      "outputs": [
        {
          "output_type": "execute_result",
          "data": {
            "text/plain": [
              "['trained_use_logreg.joblib']"
            ]
          },
          "metadata": {},
          "execution_count": 33
        }
      ]
    }
  ]
}