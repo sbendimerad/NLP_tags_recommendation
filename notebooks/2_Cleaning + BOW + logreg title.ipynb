{
 "cells": [
  {
   "cell_type": "markdown",
   "id": "cdef5950",
   "metadata": {},
   "source": [
    "# Classification supervisée des questions (approche bow)"
   ]
  },
  {
   "cell_type": "markdown",
   "id": "b5671a61",
   "metadata": {},
   "source": [
    "## Import des librairies et des données"
   ]
  },
  {
   "cell_type": "code",
   "execution_count": 2,
   "id": "c9c07f8b",
   "metadata": {},
   "outputs": [],
   "source": [
    "import pandas as pd\n",
    "import numpy as np\n",
    "import time"
   ]
  },
  {
   "cell_type": "code",
   "execution_count": 3,
   "id": "ffc586ed",
   "metadata": {},
   "outputs": [],
   "source": [
    "import matplotlib.pyplot as plt\n",
    "import seaborn as sns\n",
    "sns.set()"
   ]
  },
  {
   "cell_type": "code",
   "execution_count": 4,
   "id": "c56bfb0a",
   "metadata": {},
   "outputs": [],
   "source": [
    "import nltk\n",
    "stop_words = nltk.corpus.stopwords.words(\"english\")\n",
    "for word in ['what', 'how', 'where', 'who', 'which', 'use', 'using'] :\n",
    "    stop_words.append(word)\n",
    "from string import punctuation"
   ]
  },
  {
   "cell_type": "code",
   "execution_count": 5,
   "id": "184f48cd",
   "metadata": {},
   "outputs": [],
   "source": [
    "from bs4 import BeautifulSoup"
   ]
  },
  {
   "cell_type": "code",
   "execution_count": 6,
   "id": "5215b987",
   "metadata": {},
   "outputs": [],
   "source": [
    "from sklearn.feature_extraction.text import CountVectorizer"
   ]
  },
  {
   "cell_type": "code",
   "execution_count": 7,
   "id": "9a7740bc",
   "metadata": {},
   "outputs": [],
   "source": [
    "import gensim\n",
    "import gensim.corpora as corpora\n",
    "from gensim.utils import simple_preprocess\n",
    "from gensim.models import CoherenceModel"
   ]
  },
  {
   "cell_type": "code",
   "execution_count": 8,
   "id": "71ccde77",
   "metadata": {},
   "outputs": [],
   "source": [
    "import spacy"
   ]
  },
  {
   "cell_type": "code",
   "execution_count": 9,
   "id": "7360058a",
   "metadata": {},
   "outputs": [],
   "source": [
    "import pyLDAvis\n",
    "import pyLDAvis.gensim_models as gensimvis"
   ]
  },
  {
   "cell_type": "code",
   "execution_count": 10,
   "id": "89d9fef5",
   "metadata": {},
   "outputs": [
    {
     "name": "stdout",
     "output_type": "stream",
     "text": [
      "INFO: Pandarallel will run on 8 workers.\n",
      "INFO: Pandarallel will use standard multiprocessing data transfer (pipe) to transfer data between the main process and workers.\n"
     ]
    }
   ],
   "source": [
    "from pandarallel import pandarallel\n",
    "\n",
    "pandarallel.initialize(progress_bar=True)"
   ]
  },
  {
   "cell_type": "code",
   "execution_count": 11,
   "id": "d4a2141f",
   "metadata": {},
   "outputs": [],
   "source": [
    "from sklearn.dummy import DummyClassifier\n",
    "from sklearn.model_selection import train_test_split\n",
    "from sklearn.linear_model import LogisticRegression\n",
    "from sklearn.metrics import confusion_matrix, ConfusionMatrixDisplay, jaccard_score, accuracy_score\n",
    "from sklearn.ensemble import RandomForestClassifier, GradientBoostingClassifier\n",
    "from sklearn.svm import SVC\n",
    "from sklearn.neighbors import KNeighborsClassifier\n",
    "from sklearn.multiclass import OneVsRestClassifier"
   ]
  },
  {
   "cell_type": "code",
   "execution_count": 12,
   "id": "c0298b75",
   "metadata": {},
   "outputs": [],
   "source": [
    "from sklearn.multioutput import MultiOutputClassifier"
   ]
  },
  {
   "cell_type": "code",
   "execution_count": 13,
   "id": "6431a8c4",
   "metadata": {},
   "outputs": [],
   "source": [
    "file = open(\"top_10_tags.txt\", \"r\")\n",
    "top_10_tags = file.read()\n",
    "top_10_tags = list(top_10_tags.split('\\n')[:-1])\n",
    "file.close()"
   ]
  },
  {
   "cell_type": "code",
   "execution_count": 14,
   "id": "982d9e60",
   "metadata": {},
   "outputs": [],
   "source": [
    "data = pd.read_csv(\"data.csv\")"
   ]
  },
  {
   "cell_type": "markdown",
   "id": "48862b74",
   "metadata": {},
   "source": [
    "## Échantillonnage et nettoyage des données"
   ]
  },
  {
   "cell_type": "code",
   "execution_count": 15,
   "id": "92df0bdf",
   "metadata": {},
   "outputs": [
    {
     "data": {
      "text/html": [
       "<div>\n",
       "<style scoped>\n",
       "    .dataframe tbody tr th:only-of-type {\n",
       "        vertical-align: middle;\n",
       "    }\n",
       "\n",
       "    .dataframe tbody tr th {\n",
       "        vertical-align: top;\n",
       "    }\n",
       "\n",
       "    .dataframe thead th {\n",
       "        text-align: right;\n",
       "    }\n",
       "</style>\n",
       "<table border=\"1\" class=\"dataframe\">\n",
       "  <thead>\n",
       "    <tr style=\"text-align: right;\">\n",
       "      <th></th>\n",
       "      <th>index</th>\n",
       "      <th>Title</th>\n",
       "    </tr>\n",
       "  </thead>\n",
       "  <tbody>\n",
       "    <tr>\n",
       "      <th>0</th>\n",
       "      <td>38867</td>\n",
       "      <td>Travel directory tree with limited recursion d...</td>\n",
       "    </tr>\n",
       "    <tr>\n",
       "      <th>1</th>\n",
       "      <td>17827</td>\n",
       "      <td>dictionaryWithContentsOfFile returning nil fro...</td>\n",
       "    </tr>\n",
       "    <tr>\n",
       "      <th>2</th>\n",
       "      <td>40362</td>\n",
       "      <td>Logcat is being \"spammed\", resulting in \"Too m...</td>\n",
       "    </tr>\n",
       "    <tr>\n",
       "      <th>3</th>\n",
       "      <td>7560</td>\n",
       "      <td>GCDAsynSocketDelegate didReadData method is no...</td>\n",
       "    </tr>\n",
       "    <tr>\n",
       "      <th>4</th>\n",
       "      <td>11097</td>\n",
       "      <td>Bootstrap Mobile Not Working</td>\n",
       "    </tr>\n",
       "  </tbody>\n",
       "</table>\n",
       "</div>"
      ],
      "text/plain": [
       "   index                                              Title\n",
       "0  38867  Travel directory tree with limited recursion d...\n",
       "1  17827  dictionaryWithContentsOfFile returning nil fro...\n",
       "2  40362  Logcat is being \"spammed\", resulting in \"Too m...\n",
       "3   7560  GCDAsynSocketDelegate didReadData method is no...\n",
       "4  11097                       Bootstrap Mobile Not Working"
      ]
     },
     "execution_count": 15,
     "metadata": {},
     "output_type": "execute_result"
    }
   ],
   "source": [
    "text = data['Title']\n",
    "text_spl = text.sample(frac = 0.05).reset_index()\n",
    "text_spl.head()"
   ]
  },
  {
   "cell_type": "code",
   "execution_count": 16,
   "id": "7123a39a",
   "metadata": {},
   "outputs": [],
   "source": [
    "def preprocess(text) :\n",
    "\n",
    "    \"\"\"\" Nettoyage du texte :\n",
    "    passage au minuscule\n",
    "    suppression du code éventuel du texte que l'on stocke dans une variable 'code'\n",
    "    suppression et du contenu des balises autres que p (script, alt, ...)\n",
    "    suppression des balises html\n",
    "    conservation des textes labellisés par les top 30 tags uniquement\n",
    "    suppression de la ponctuation, des chiffres,\n",
    "    et des stopwords\n",
    "    lemmatisation par spaCy \"\"\"\n",
    "    \n",
    "    text = text.lower()\n",
    "    \n",
    "    soup = BeautifulSoup(text)\n",
    "    \n",
    "    if soup.find(\"code\") :        \n",
    "        code = soup.find(\"code\").get_text()\n",
    "        soup.find('code').clear()\n",
    "    text_wo_tags = soup.get_text()\n",
    "    \n",
    "    for i in range(1, len(text_wo_tags)) :\n",
    "        if text_wo_tags[i-1] == 'c' and text_wo_tags[i] == '#' :\n",
    "            text_wo_tags = text_wo_tags.replace(text_wo_tags[i], 'sharp')\n",
    "    \n",
    "    token_list = nltk.word_tokenize(text_wo_tags)\n",
    "    \n",
    "    new_text = []\n",
    "    \n",
    "    for token in token_list :\n",
    "        if token in top_10_tags :\n",
    "            new_text.append(token)\n",
    "        elif token not in stop_words :\n",
    "            for char in token :\n",
    "                if char in punctuation or char.isdigit() :\n",
    "                    token = token.replace(char, '')\n",
    "            new_text.append(token)\n",
    "    \n",
    "    lem = nltk.stem.WordNetLemmatizer()\n",
    "    \n",
    "    for token in new_text :\n",
    "        if nltk.pos_tag([token])[0][1].startswith('V') :\n",
    "            index = new_text.index(token)\n",
    "            token_lem = lem.lemmatize(token, pos = 'v')\n",
    "            new_text[index] = new_text[index].replace(token, token_lem)\n",
    "            \n",
    "    new_text = ' '.join(new_text)\n",
    "\n",
    "    return new_text"
   ]
  },
  {
   "cell_type": "code",
   "execution_count": 17,
   "id": "10dee0e3",
   "metadata": {},
   "outputs": [
    {
     "name": "stdout",
     "output_type": "stream",
     "text": [
      "Textes bruts :\n",
      "\n",
      "0     Travel directory tree with limited recursion d...\n",
      "1     dictionaryWithContentsOfFile returning nil fro...\n",
      "2     Logcat is being \"spammed\", resulting in \"Too m...\n",
      "3     GCDAsynSocketDelegate didReadData method is no...\n",
      "4                          Bootstrap Mobile Not Working\n",
      "5     Any way to make html5 audio responsive in Boot...\n",
      "6                   How do compilers optimize our code?\n",
      "7      20 Receives per second with SocketAsyncEventArgs\n",
      "8     \"sh: ./<file> not found\" error when trying to ...\n",
      "9     How to determine if Native JavaScript Object h...\n",
      "10    Why is it slower to iterate over a small strin...\n",
      "11    Is there a <meta> tag to turn off caching in a...\n",
      "Name: Title, dtype: object\n",
      "---------------------------------------\n",
      "Textes nettoyés :\n",
      "\n",
      "0         travel directory tree limited recursion depth\n",
      "1     dictionarywithcontentsoffile return nil proper...\n",
      "2        logcat  spammed   result  much output process \n",
      "3     gcdasynsocketdelegate didreaddata method call ...\n",
      "4                                 bootstrap mobile work\n",
      "5             way make html audio responsive bootstrap \n",
      "6                              compilers optimize code \n",
      "7              receives per second socketasynceventargs\n",
      "8                    sh   found  error try execute file\n",
      "9     determine native javascript object propertymet...\n",
      "10              slower iterate small string small list \n",
      "11                             tag turn cache browsers \n",
      "Name: Title, dtype: object\n"
     ]
    },
    {
     "name": "stderr",
     "output_type": "stream",
     "text": [
      "/opt/anaconda3/lib/python3.9/site-packages/bs4/__init__.py:435: MarkupResemblesLocatorWarning: The input looks more like a filename than markup. You may want to open this file and pass the filehandle into Beautiful Soup.\n",
      "  warnings.warn(\n"
     ]
    }
   ],
   "source": [
    "print(\"Textes bruts :\")\n",
    "print(\"\")\n",
    "print(text_spl.loc[:11, 'Title'])\n",
    "print(\"---------------------------------------\")\n",
    "print(\"Textes nettoyés :\")\n",
    "print(\"\")\n",
    "print(text_spl.loc[:11, 'Title'].apply(preprocess))"
   ]
  },
  {
   "cell_type": "code",
   "execution_count": 18,
   "id": "c98df54f",
   "metadata": {},
   "outputs": [
    {
     "data": {
      "application/vnd.jupyter.widget-view+json": {
       "model_id": "0e0dc309168b446294f7dfe7fc97ac4f",
       "version_major": 2,
       "version_minor": 0
      },
      "text/plain": [
       "VBox(children=(HBox(children=(IntProgress(value=0, description='0.00%', max=265), Label(value='0 / 265'))), HB…"
      ]
     },
     "metadata": {},
     "output_type": "display_data"
    },
    {
     "name": "stdout",
     "output_type": "stream",
     "text": [
      "CPU times: user 128 ms, sys: 81.4 ms, total: 210 ms\n",
      "Wall time: 622 ms\n"
     ]
    }
   ],
   "source": [
    "%%time\n",
    "text_clean = text_spl['Title'].parallel_apply(preprocess)"
   ]
  },
  {
   "cell_type": "code",
   "execution_count": 19,
   "id": "88852778",
   "metadata": {},
   "outputs": [],
   "source": [
    "text_spl['Title_clean'] = text_clean"
   ]
  },
  {
   "cell_type": "code",
   "execution_count": 20,
   "id": "b806ccca",
   "metadata": {},
   "outputs": [
    {
     "data": {
      "text/html": [
       "<div>\n",
       "<style scoped>\n",
       "    .dataframe tbody tr th:only-of-type {\n",
       "        vertical-align: middle;\n",
       "    }\n",
       "\n",
       "    .dataframe tbody tr th {\n",
       "        vertical-align: top;\n",
       "    }\n",
       "\n",
       "    .dataframe thead th {\n",
       "        text-align: right;\n",
       "    }\n",
       "</style>\n",
       "<table border=\"1\" class=\"dataframe\">\n",
       "  <thead>\n",
       "    <tr style=\"text-align: right;\">\n",
       "      <th></th>\n",
       "      <th>Title</th>\n",
       "      <th>Title_clean</th>\n",
       "      <th>Tags</th>\n",
       "    </tr>\n",
       "  </thead>\n",
       "  <tbody>\n",
       "    <tr>\n",
       "      <th>0</th>\n",
       "      <td>Travel directory tree with limited recursion d...</td>\n",
       "      <td>travel directory tree limited recursion depth</td>\n",
       "      <td>['python']</td>\n",
       "    </tr>\n",
       "    <tr>\n",
       "      <th>1</th>\n",
       "      <td>dictionaryWithContentsOfFile returning nil fro...</td>\n",
       "      <td>dictionarywithcontentsoffile return nil proper...</td>\n",
       "      <td>['iphone', 'objective-c']</td>\n",
       "    </tr>\n",
       "    <tr>\n",
       "      <th>2</th>\n",
       "      <td>Logcat is being \"spammed\", resulting in \"Too m...</td>\n",
       "      <td>logcat  spammed   result  much output process</td>\n",
       "      <td>['android']</td>\n",
       "    </tr>\n",
       "  </tbody>\n",
       "</table>\n",
       "</div>"
      ],
      "text/plain": [
       "                                               Title  \\\n",
       "0  Travel directory tree with limited recursion d...   \n",
       "1  dictionaryWithContentsOfFile returning nil fro...   \n",
       "2  Logcat is being \"spammed\", resulting in \"Too m...   \n",
       "\n",
       "                                         Title_clean  \\\n",
       "0      travel directory tree limited recursion depth   \n",
       "1  dictionarywithcontentsoffile return nil proper...   \n",
       "2     logcat  spammed   result  much output process    \n",
       "\n",
       "                        Tags  \n",
       "0                 ['python']  \n",
       "1  ['iphone', 'objective-c']  \n",
       "2                ['android']  "
      ]
     },
     "execution_count": 20,
     "metadata": {},
     "output_type": "execute_result"
    }
   ],
   "source": [
    "data = pd.merge(data.iloc[text_spl['index']], text_spl)[['Title', 'Title_clean', 'Tags']]\n",
    "data.head(3)"
   ]
  },
  {
   "cell_type": "markdown",
   "id": "14e3dd0e",
   "metadata": {},
   "source": [
    "## Classification supervisée"
   ]
  },
  {
   "cell_type": "markdown",
   "id": "951914a6",
   "metadata": {},
   "source": [
    "### Extraction de features par Bag-of-Words"
   ]
  },
  {
   "cell_type": "code",
   "execution_count": 21,
   "id": "c32f8df9",
   "metadata": {},
   "outputs": [],
   "source": [
    "vec = CountVectorizer()"
   ]
  },
  {
   "cell_type": "code",
   "execution_count": 22,
   "id": "78ef10f8",
   "metadata": {},
   "outputs": [],
   "source": [
    "X = vec.fit_transform(text_spl['Title'])"
   ]
  },
  {
   "cell_type": "code",
   "execution_count": 23,
   "id": "ce733793",
   "metadata": {},
   "outputs": [
    {
     "data": {
      "text/html": [
       "<div>\n",
       "<style scoped>\n",
       "    .dataframe tbody tr th:only-of-type {\n",
       "        vertical-align: middle;\n",
       "    }\n",
       "\n",
       "    .dataframe tbody tr th {\n",
       "        vertical-align: top;\n",
       "    }\n",
       "\n",
       "    .dataframe thead th {\n",
       "        text-align: right;\n",
       "    }\n",
       "</style>\n",
       "<table border=\"1\" class=\"dataframe\">\n",
       "  <thead>\n",
       "    <tr style=\"text-align: right;\">\n",
       "      <th></th>\n",
       "      <th>00</th>\n",
       "      <th>000</th>\n",
       "      <th>0000</th>\n",
       "      <th>01</th>\n",
       "      <th>04</th>\n",
       "      <th>0beta</th>\n",
       "      <th>0x</th>\n",
       "      <th>0x2</th>\n",
       "      <th>0x2efd</th>\n",
       "      <th>0x7f090047</th>\n",
       "      <th>...</th>\n",
       "      <th>yyyy</th>\n",
       "      <th>zend</th>\n",
       "      <th>zero</th>\n",
       "      <th>zone</th>\n",
       "      <th>zones</th>\n",
       "      <th>zoom</th>\n",
       "      <th>zoomed</th>\n",
       "      <th>zsh</th>\n",
       "      <th>ɵɵdefineinjectable</th>\n",
       "      <th>ɵɵinject</th>\n",
       "    </tr>\n",
       "  </thead>\n",
       "  <tbody>\n",
       "    <tr>\n",
       "      <th>0</th>\n",
       "      <td>0</td>\n",
       "      <td>0</td>\n",
       "      <td>0</td>\n",
       "      <td>0</td>\n",
       "      <td>0</td>\n",
       "      <td>0</td>\n",
       "      <td>0</td>\n",
       "      <td>0</td>\n",
       "      <td>0</td>\n",
       "      <td>0</td>\n",
       "      <td>...</td>\n",
       "      <td>0</td>\n",
       "      <td>0</td>\n",
       "      <td>0</td>\n",
       "      <td>0</td>\n",
       "      <td>0</td>\n",
       "      <td>0</td>\n",
       "      <td>0</td>\n",
       "      <td>0</td>\n",
       "      <td>0</td>\n",
       "      <td>0</td>\n",
       "    </tr>\n",
       "    <tr>\n",
       "      <th>1</th>\n",
       "      <td>0</td>\n",
       "      <td>0</td>\n",
       "      <td>0</td>\n",
       "      <td>0</td>\n",
       "      <td>0</td>\n",
       "      <td>0</td>\n",
       "      <td>0</td>\n",
       "      <td>0</td>\n",
       "      <td>0</td>\n",
       "      <td>0</td>\n",
       "      <td>...</td>\n",
       "      <td>0</td>\n",
       "      <td>0</td>\n",
       "      <td>0</td>\n",
       "      <td>0</td>\n",
       "      <td>0</td>\n",
       "      <td>0</td>\n",
       "      <td>0</td>\n",
       "      <td>0</td>\n",
       "      <td>0</td>\n",
       "      <td>0</td>\n",
       "    </tr>\n",
       "    <tr>\n",
       "      <th>2</th>\n",
       "      <td>0</td>\n",
       "      <td>0</td>\n",
       "      <td>0</td>\n",
       "      <td>0</td>\n",
       "      <td>0</td>\n",
       "      <td>0</td>\n",
       "      <td>0</td>\n",
       "      <td>0</td>\n",
       "      <td>0</td>\n",
       "      <td>0</td>\n",
       "      <td>...</td>\n",
       "      <td>0</td>\n",
       "      <td>0</td>\n",
       "      <td>0</td>\n",
       "      <td>0</td>\n",
       "      <td>0</td>\n",
       "      <td>0</td>\n",
       "      <td>0</td>\n",
       "      <td>0</td>\n",
       "      <td>0</td>\n",
       "      <td>0</td>\n",
       "    </tr>\n",
       "    <tr>\n",
       "      <th>3</th>\n",
       "      <td>0</td>\n",
       "      <td>0</td>\n",
       "      <td>0</td>\n",
       "      <td>0</td>\n",
       "      <td>0</td>\n",
       "      <td>0</td>\n",
       "      <td>0</td>\n",
       "      <td>0</td>\n",
       "      <td>0</td>\n",
       "      <td>0</td>\n",
       "      <td>...</td>\n",
       "      <td>0</td>\n",
       "      <td>0</td>\n",
       "      <td>0</td>\n",
       "      <td>0</td>\n",
       "      <td>0</td>\n",
       "      <td>0</td>\n",
       "      <td>0</td>\n",
       "      <td>0</td>\n",
       "      <td>0</td>\n",
       "      <td>0</td>\n",
       "    </tr>\n",
       "    <tr>\n",
       "      <th>4</th>\n",
       "      <td>0</td>\n",
       "      <td>0</td>\n",
       "      <td>0</td>\n",
       "      <td>0</td>\n",
       "      <td>0</td>\n",
       "      <td>0</td>\n",
       "      <td>0</td>\n",
       "      <td>0</td>\n",
       "      <td>0</td>\n",
       "      <td>0</td>\n",
       "      <td>...</td>\n",
       "      <td>0</td>\n",
       "      <td>0</td>\n",
       "      <td>0</td>\n",
       "      <td>0</td>\n",
       "      <td>0</td>\n",
       "      <td>0</td>\n",
       "      <td>0</td>\n",
       "      <td>0</td>\n",
       "      <td>0</td>\n",
       "      <td>0</td>\n",
       "    </tr>\n",
       "    <tr>\n",
       "      <th>...</th>\n",
       "      <td>...</td>\n",
       "      <td>...</td>\n",
       "      <td>...</td>\n",
       "      <td>...</td>\n",
       "      <td>...</td>\n",
       "      <td>...</td>\n",
       "      <td>...</td>\n",
       "      <td>...</td>\n",
       "      <td>...</td>\n",
       "      <td>...</td>\n",
       "      <td>...</td>\n",
       "      <td>...</td>\n",
       "      <td>...</td>\n",
       "      <td>...</td>\n",
       "      <td>...</td>\n",
       "      <td>...</td>\n",
       "      <td>...</td>\n",
       "      <td>...</td>\n",
       "      <td>...</td>\n",
       "      <td>...</td>\n",
       "      <td>...</td>\n",
       "    </tr>\n",
       "    <tr>\n",
       "      <th>2111</th>\n",
       "      <td>0</td>\n",
       "      <td>0</td>\n",
       "      <td>0</td>\n",
       "      <td>0</td>\n",
       "      <td>0</td>\n",
       "      <td>0</td>\n",
       "      <td>0</td>\n",
       "      <td>0</td>\n",
       "      <td>0</td>\n",
       "      <td>0</td>\n",
       "      <td>...</td>\n",
       "      <td>0</td>\n",
       "      <td>0</td>\n",
       "      <td>0</td>\n",
       "      <td>0</td>\n",
       "      <td>0</td>\n",
       "      <td>0</td>\n",
       "      <td>0</td>\n",
       "      <td>0</td>\n",
       "      <td>0</td>\n",
       "      <td>0</td>\n",
       "    </tr>\n",
       "    <tr>\n",
       "      <th>2112</th>\n",
       "      <td>0</td>\n",
       "      <td>0</td>\n",
       "      <td>0</td>\n",
       "      <td>0</td>\n",
       "      <td>0</td>\n",
       "      <td>0</td>\n",
       "      <td>0</td>\n",
       "      <td>0</td>\n",
       "      <td>0</td>\n",
       "      <td>0</td>\n",
       "      <td>...</td>\n",
       "      <td>0</td>\n",
       "      <td>0</td>\n",
       "      <td>0</td>\n",
       "      <td>0</td>\n",
       "      <td>0</td>\n",
       "      <td>0</td>\n",
       "      <td>0</td>\n",
       "      <td>0</td>\n",
       "      <td>0</td>\n",
       "      <td>0</td>\n",
       "    </tr>\n",
       "    <tr>\n",
       "      <th>2113</th>\n",
       "      <td>0</td>\n",
       "      <td>0</td>\n",
       "      <td>0</td>\n",
       "      <td>0</td>\n",
       "      <td>0</td>\n",
       "      <td>0</td>\n",
       "      <td>0</td>\n",
       "      <td>0</td>\n",
       "      <td>0</td>\n",
       "      <td>0</td>\n",
       "      <td>...</td>\n",
       "      <td>0</td>\n",
       "      <td>0</td>\n",
       "      <td>0</td>\n",
       "      <td>0</td>\n",
       "      <td>0</td>\n",
       "      <td>0</td>\n",
       "      <td>0</td>\n",
       "      <td>0</td>\n",
       "      <td>0</td>\n",
       "      <td>0</td>\n",
       "    </tr>\n",
       "    <tr>\n",
       "      <th>2114</th>\n",
       "      <td>0</td>\n",
       "      <td>0</td>\n",
       "      <td>0</td>\n",
       "      <td>0</td>\n",
       "      <td>0</td>\n",
       "      <td>0</td>\n",
       "      <td>0</td>\n",
       "      <td>0</td>\n",
       "      <td>0</td>\n",
       "      <td>0</td>\n",
       "      <td>...</td>\n",
       "      <td>0</td>\n",
       "      <td>0</td>\n",
       "      <td>0</td>\n",
       "      <td>0</td>\n",
       "      <td>0</td>\n",
       "      <td>0</td>\n",
       "      <td>0</td>\n",
       "      <td>0</td>\n",
       "      <td>0</td>\n",
       "      <td>0</td>\n",
       "    </tr>\n",
       "    <tr>\n",
       "      <th>2115</th>\n",
       "      <td>0</td>\n",
       "      <td>0</td>\n",
       "      <td>0</td>\n",
       "      <td>0</td>\n",
       "      <td>0</td>\n",
       "      <td>0</td>\n",
       "      <td>0</td>\n",
       "      <td>0</td>\n",
       "      <td>0</td>\n",
       "      <td>0</td>\n",
       "      <td>...</td>\n",
       "      <td>0</td>\n",
       "      <td>0</td>\n",
       "      <td>0</td>\n",
       "      <td>0</td>\n",
       "      <td>0</td>\n",
       "      <td>0</td>\n",
       "      <td>0</td>\n",
       "      <td>0</td>\n",
       "      <td>0</td>\n",
       "      <td>0</td>\n",
       "    </tr>\n",
       "  </tbody>\n",
       "</table>\n",
       "<p>2116 rows × 4098 columns</p>\n",
       "</div>"
      ],
      "text/plain": [
       "      00  000  0000  01  04  0beta  0x  0x2  0x2efd  0x7f090047  ...  yyyy  \\\n",
       "0      0    0     0   0   0      0   0    0       0           0  ...     0   \n",
       "1      0    0     0   0   0      0   0    0       0           0  ...     0   \n",
       "2      0    0     0   0   0      0   0    0       0           0  ...     0   \n",
       "3      0    0     0   0   0      0   0    0       0           0  ...     0   \n",
       "4      0    0     0   0   0      0   0    0       0           0  ...     0   \n",
       "...   ..  ...   ...  ..  ..    ...  ..  ...     ...         ...  ...   ...   \n",
       "2111   0    0     0   0   0      0   0    0       0           0  ...     0   \n",
       "2112   0    0     0   0   0      0   0    0       0           0  ...     0   \n",
       "2113   0    0     0   0   0      0   0    0       0           0  ...     0   \n",
       "2114   0    0     0   0   0      0   0    0       0           0  ...     0   \n",
       "2115   0    0     0   0   0      0   0    0       0           0  ...     0   \n",
       "\n",
       "      zend  zero  zone  zones  zoom  zoomed  zsh  ɵɵdefineinjectable  ɵɵinject  \n",
       "0        0     0     0      0     0       0    0                   0         0  \n",
       "1        0     0     0      0     0       0    0                   0         0  \n",
       "2        0     0     0      0     0       0    0                   0         0  \n",
       "3        0     0     0      0     0       0    0                   0         0  \n",
       "4        0     0     0      0     0       0    0                   0         0  \n",
       "...    ...   ...   ...    ...   ...     ...  ...                 ...       ...  \n",
       "2111     0     0     0      0     0       0    0                   0         0  \n",
       "2112     0     0     0      0     0       0    0                   0         0  \n",
       "2113     0     0     0      0     0       0    0                   0         0  \n",
       "2114     0     0     0      0     0       0    0                   0         0  \n",
       "2115     0     0     0      0     0       0    0                   0         0  \n",
       "\n",
       "[2116 rows x 4098 columns]"
      ]
     },
     "execution_count": 23,
     "metadata": {},
     "output_type": "execute_result"
    }
   ],
   "source": [
    "vecdf = pd.DataFrame(X.todense().tolist(), columns = vec.get_feature_names_out())\n",
    "vecdf"
   ]
  },
  {
   "cell_type": "code",
   "execution_count": 24,
   "id": "af802abb",
   "metadata": {},
   "outputs": [],
   "source": [
    "df = data\n",
    "data = vecdf.join(data)\n",
    "#data['ispython'] = False\n",
    "data = data[~data['Tags'].isna()]"
   ]
  },
  {
   "cell_type": "markdown",
   "id": "ef204319",
   "metadata": {},
   "source": [
    "### Encoding des tags"
   ]
  },
  {
   "cell_type": "code",
   "execution_count": 25,
   "id": "e5bfdbbd",
   "metadata": {},
   "outputs": [],
   "source": [
    "for tag in top_10_tags :\n",
    "    data['is' + tag] = 0\n",
    "    index = 0\n",
    "    for doc_tag in data['Tags'] :\n",
    "        if tag in doc_tag :\n",
    "            data.loc[index, 'is' + tag] = 1\n",
    "        index += 1"
   ]
  },
  {
   "cell_type": "code",
   "execution_count": 26,
   "id": "af41605e",
   "metadata": {},
   "outputs": [
    {
     "data": {
      "text/html": [
       "<div>\n",
       "<style scoped>\n",
       "    .dataframe tbody tr th:only-of-type {\n",
       "        vertical-align: middle;\n",
       "    }\n",
       "\n",
       "    .dataframe tbody tr th {\n",
       "        vertical-align: top;\n",
       "    }\n",
       "\n",
       "    .dataframe thead th {\n",
       "        text-align: right;\n",
       "    }\n",
       "</style>\n",
       "<table border=\"1\" class=\"dataframe\">\n",
       "  <thead>\n",
       "    <tr style=\"text-align: right;\">\n",
       "      <th></th>\n",
       "      <th>Tags</th>\n",
       "      <th>isc#</th>\n",
       "      <th>isjava</th>\n",
       "      <th>isjavascript</th>\n",
       "      <th>ispython</th>\n",
       "      <th>isc++</th>\n",
       "      <th>isios</th>\n",
       "      <th>isandroid</th>\n",
       "      <th>is.net</th>\n",
       "      <th>ishtml</th>\n",
       "      <th>isphp</th>\n",
       "    </tr>\n",
       "  </thead>\n",
       "  <tbody>\n",
       "    <tr>\n",
       "      <th>0</th>\n",
       "      <td>['python']</td>\n",
       "      <td>0</td>\n",
       "      <td>0</td>\n",
       "      <td>0</td>\n",
       "      <td>1</td>\n",
       "      <td>0</td>\n",
       "      <td>0</td>\n",
       "      <td>0</td>\n",
       "      <td>0</td>\n",
       "      <td>0</td>\n",
       "      <td>0</td>\n",
       "    </tr>\n",
       "    <tr>\n",
       "      <th>1</th>\n",
       "      <td>['iphone', 'objective-c']</td>\n",
       "      <td>0</td>\n",
       "      <td>0</td>\n",
       "      <td>0</td>\n",
       "      <td>0</td>\n",
       "      <td>0</td>\n",
       "      <td>0</td>\n",
       "      <td>0</td>\n",
       "      <td>0</td>\n",
       "      <td>0</td>\n",
       "      <td>0</td>\n",
       "    </tr>\n",
       "    <tr>\n",
       "      <th>2</th>\n",
       "      <td>['android']</td>\n",
       "      <td>0</td>\n",
       "      <td>0</td>\n",
       "      <td>0</td>\n",
       "      <td>0</td>\n",
       "      <td>0</td>\n",
       "      <td>0</td>\n",
       "      <td>1</td>\n",
       "      <td>0</td>\n",
       "      <td>0</td>\n",
       "      <td>0</td>\n",
       "    </tr>\n",
       "    <tr>\n",
       "      <th>3</th>\n",
       "      <td>['ios', 'iphone', 'objective-c']</td>\n",
       "      <td>0</td>\n",
       "      <td>0</td>\n",
       "      <td>0</td>\n",
       "      <td>0</td>\n",
       "      <td>0</td>\n",
       "      <td>1</td>\n",
       "      <td>0</td>\n",
       "      <td>0</td>\n",
       "      <td>0</td>\n",
       "      <td>0</td>\n",
       "    </tr>\n",
       "    <tr>\n",
       "      <th>4</th>\n",
       "      <td>['html']</td>\n",
       "      <td>0</td>\n",
       "      <td>0</td>\n",
       "      <td>0</td>\n",
       "      <td>0</td>\n",
       "      <td>0</td>\n",
       "      <td>0</td>\n",
       "      <td>0</td>\n",
       "      <td>0</td>\n",
       "      <td>1</td>\n",
       "      <td>0</td>\n",
       "    </tr>\n",
       "  </tbody>\n",
       "</table>\n",
       "</div>"
      ],
      "text/plain": [
       "                               Tags  isc#  isjava  isjavascript  ispython  \\\n",
       "0                        ['python']     0       0             0         1   \n",
       "1         ['iphone', 'objective-c']     0       0             0         0   \n",
       "2                       ['android']     0       0             0         0   \n",
       "3  ['ios', 'iphone', 'objective-c']     0       0             0         0   \n",
       "4                          ['html']     0       0             0         0   \n",
       "\n",
       "   isc++  isios  isandroid  is.net  ishtml  isphp  \n",
       "0      0      0          0       0       0      0  \n",
       "1      0      0          0       0       0      0  \n",
       "2      0      0          1       0       0      0  \n",
       "3      0      1          0       0       0      0  \n",
       "4      0      0          0       0       1      0  "
      ]
     },
     "execution_count": 26,
     "metadata": {},
     "output_type": "execute_result"
    }
   ],
   "source": [
    "data.iloc[:5, -11:]"
   ]
  },
  {
   "cell_type": "markdown",
   "id": "3343469e",
   "metadata": {},
   "source": [
    "### Essai de différents modèles de classification"
   ]
  },
  {
   "cell_type": "code",
   "execution_count": 27,
   "id": "c39db1eb",
   "metadata": {},
   "outputs": [],
   "source": [
    "X = data.iloc[:,:-13].values\n",
    "y = data.iloc[:,-10:].values"
   ]
  },
  {
   "cell_type": "code",
   "execution_count": 28,
   "id": "5b01557c",
   "metadata": {},
   "outputs": [],
   "source": [
    "X_train, X_test, y_train, y_test = train_test_split(X, y, test_size=0.33, random_state=42)"
   ]
  },
  {
   "cell_type": "code",
   "execution_count": null,
   "id": "401ec98a",
   "metadata": {},
   "outputs": [],
   "source": []
  },
  {
   "cell_type": "code",
   "execution_count": 29,
   "id": "fede4979",
   "metadata": {},
   "outputs": [
    {
     "data": {
      "text/plain": [
       "DummyClassifier()"
      ]
     },
     "execution_count": 29,
     "metadata": {},
     "output_type": "execute_result"
    }
   ],
   "source": [
    "dummy = DummyClassifier()\n",
    "dummy.fit(X_train, y_train)"
   ]
  },
  {
   "cell_type": "code",
   "execution_count": 30,
   "id": "54bde582",
   "metadata": {},
   "outputs": [
    {
     "data": {
      "text/plain": [
       "0.15808045165843332"
      ]
     },
     "execution_count": 30,
     "metadata": {},
     "output_type": "execute_result"
    }
   ],
   "source": [
    "dummy.score(X_train,y_train)"
   ]
  },
  {
   "cell_type": "code",
   "execution_count": 31,
   "id": "0668464e",
   "metadata": {},
   "outputs": [
    {
     "data": {
      "text/plain": [
       "0.13304721030042918"
      ]
     },
     "execution_count": 31,
     "metadata": {},
     "output_type": "execute_result"
    }
   ],
   "source": [
    "dummy.score(X_test,y_test)"
   ]
  },
  {
   "cell_type": "code",
   "execution_count": null,
   "id": "b78f73c6",
   "metadata": {},
   "outputs": [],
   "source": []
  },
  {
   "cell_type": "code",
   "execution_count": 32,
   "id": "fadd5ca7",
   "metadata": {},
   "outputs": [],
   "source": [
    "def model_testing(X_train, X_test, y_train, y_test, model_list) :\n",
    "    train_score = []\n",
    "    test_score = []\n",
    "    fit_time = []\n",
    "    jaccard = []\n",
    "    \n",
    "    for model in model_list :\n",
    "        start = time.time()\n",
    "        mcmodel = MultiOutputClassifier(model)\n",
    "        mcmodel.fit(X_train, y_train)\n",
    "        stop = time.time()\n",
    "        train_score.append(mcmodel.score(X_train, y_train))\n",
    "        test_score.append(mcmodel.score(X_test, y_test))\n",
    "        fit_time.append(stop - start)\n",
    "        jaccard.append(jaccard_score(y_test, mcmodel.predict(X_test), average = 'micro'))\n",
    "        \n",
    "    train_score = pd.DataFrame(train_score, model_list, columns = ['train_score']).reset_index()\n",
    "    test_score = pd.DataFrame(test_score, model_list, columns = ['test_score']).reset_index()\n",
    "    fit_time = pd.DataFrame(fit_time, model_list, columns = ['fit_time']).reset_index()\n",
    "    jaccard = pd.DataFrame(jaccard, model_list, columns = ['jaccard_score']).reset_index()\n",
    "    result = pd.merge(train_score, test_score)\n",
    "    result = pd.merge(result, fit_time)\n",
    "    result = pd.merge(result, jaccard)\n",
    "    \n",
    "    return result"
   ]
  },
  {
   "cell_type": "code",
   "execution_count": 33,
   "id": "6014fffa",
   "metadata": {},
   "outputs": [],
   "source": [
    "model_list = [LogisticRegression(), KNeighborsClassifier(), SVC(), RandomForestClassifier()]"
   ]
  },
  {
   "cell_type": "code",
   "execution_count": 34,
   "id": "b08a846f",
   "metadata": {},
   "outputs": [
    {
     "name": "stdout",
     "output_type": "stream",
     "text": [
      "CPU times: user 5min 41s, sys: 8.59 s, total: 5min 50s\n",
      "Wall time: 2min 2s\n"
     ]
    },
    {
     "data": {
      "text/html": [
       "<div>\n",
       "<style scoped>\n",
       "    .dataframe tbody tr th:only-of-type {\n",
       "        vertical-align: middle;\n",
       "    }\n",
       "\n",
       "    .dataframe tbody tr th {\n",
       "        vertical-align: top;\n",
       "    }\n",
       "\n",
       "    .dataframe thead th {\n",
       "        text-align: right;\n",
       "    }\n",
       "</style>\n",
       "<table border=\"1\" class=\"dataframe\">\n",
       "  <thead>\n",
       "    <tr style=\"text-align: right;\">\n",
       "      <th></th>\n",
       "      <th>index</th>\n",
       "      <th>train_score</th>\n",
       "      <th>test_score</th>\n",
       "      <th>fit_time</th>\n",
       "      <th>jaccard_score</th>\n",
       "    </tr>\n",
       "  </thead>\n",
       "  <tbody>\n",
       "    <tr>\n",
       "      <th>0</th>\n",
       "      <td>LogisticRegression()</td>\n",
       "      <td>0.757234</td>\n",
       "      <td>0.329041</td>\n",
       "      <td>1.138505</td>\n",
       "      <td>0.272216</td>\n",
       "    </tr>\n",
       "    <tr>\n",
       "      <th>1</th>\n",
       "      <td>KNeighborsClassifier()</td>\n",
       "      <td>0.318278</td>\n",
       "      <td>0.164521</td>\n",
       "      <td>0.002466</td>\n",
       "      <td>0.106842</td>\n",
       "    </tr>\n",
       "    <tr>\n",
       "      <th>2</th>\n",
       "      <td>SVC()</td>\n",
       "      <td>0.578687</td>\n",
       "      <td>0.251788</td>\n",
       "      <td>30.240991</td>\n",
       "      <td>0.156103</td>\n",
       "    </tr>\n",
       "    <tr>\n",
       "      <th>3</th>\n",
       "      <td>RandomForestClassifier()</td>\n",
       "      <td>0.997883</td>\n",
       "      <td>0.326180</td>\n",
       "      <td>8.263376</td>\n",
       "      <td>0.268124</td>\n",
       "    </tr>\n",
       "  </tbody>\n",
       "</table>\n",
       "</div>"
      ],
      "text/plain": [
       "                      index  train_score  test_score   fit_time  jaccard_score\n",
       "0      LogisticRegression()     0.757234    0.329041   1.138505       0.272216\n",
       "1    KNeighborsClassifier()     0.318278    0.164521   0.002466       0.106842\n",
       "2                     SVC()     0.578687    0.251788  30.240991       0.156103\n",
       "3  RandomForestClassifier()     0.997883    0.326180   8.263376       0.268124"
      ]
     },
     "execution_count": 34,
     "metadata": {},
     "output_type": "execute_result"
    }
   ],
   "source": [
    "%%time\n",
    "model_testing(X_train, X_test, y_train, y_test, model_list)"
   ]
  },
  {
   "cell_type": "code",
   "execution_count": null,
   "id": "660fbbd4",
   "metadata": {},
   "outputs": [],
   "source": []
  },
  {
   "cell_type": "markdown",
   "id": "9a478fc1",
   "metadata": {},
   "source": [
    "### Vérification du modèle retenu"
   ]
  },
  {
   "cell_type": "code",
   "execution_count": 35,
   "id": "6b0a63e2",
   "metadata": {},
   "outputs": [],
   "source": [
    "mclr = MultiOutputClassifier(LogisticRegression())"
   ]
  },
  {
   "cell_type": "code",
   "execution_count": 36,
   "id": "393bdc33",
   "metadata": {},
   "outputs": [
    {
     "data": {
      "text/plain": [
       "MultiOutputClassifier(estimator=LogisticRegression())"
      ]
     },
     "execution_count": 36,
     "metadata": {},
     "output_type": "execute_result"
    }
   ],
   "source": [
    "mclr.fit(X_train, y_train)"
   ]
  },
  {
   "cell_type": "code",
   "execution_count": 37,
   "id": "9d97b1e4",
   "metadata": {},
   "outputs": [
    {
     "data": {
      "text/plain": [
       "0.7572335920959774"
      ]
     },
     "execution_count": 37,
     "metadata": {},
     "output_type": "execute_result"
    }
   ],
   "source": [
    "mclr.score(X_train, y_train)"
   ]
  },
  {
   "cell_type": "code",
   "execution_count": 38,
   "id": "1b968207",
   "metadata": {},
   "outputs": [
    {
     "data": {
      "text/plain": [
       "0.3290414878397711"
      ]
     },
     "execution_count": 38,
     "metadata": {},
     "output_type": "execute_result"
    }
   ],
   "source": [
    "mclr.score(X_test, y_test)"
   ]
  },
  {
   "cell_type": "code",
   "execution_count": 39,
   "id": "c019d740",
   "metadata": {},
   "outputs": [
    {
     "data": {
      "text/plain": [
       "0.2722159730033746"
      ]
     },
     "execution_count": 39,
     "metadata": {},
     "output_type": "execute_result"
    }
   ],
   "source": [
    "jaccard_score(y_test, mclr.predict(X_test), average = 'micro')"
   ]
  },
  {
   "cell_type": "code",
   "execution_count": null,
   "id": "4641d68a",
   "metadata": {},
   "outputs": [],
   "source": []
  },
  {
   "cell_type": "code",
   "execution_count": 40,
   "id": "7f53adf7",
   "metadata": {},
   "outputs": [],
   "source": [
    "data = data.iloc[:,-13:]"
   ]
  },
  {
   "cell_type": "code",
   "execution_count": 41,
   "id": "84798b3c",
   "metadata": {},
   "outputs": [
    {
     "data": {
      "text/html": [
       "<div>\n",
       "<style scoped>\n",
       "    .dataframe tbody tr th:only-of-type {\n",
       "        vertical-align: middle;\n",
       "    }\n",
       "\n",
       "    .dataframe tbody tr th {\n",
       "        vertical-align: top;\n",
       "    }\n",
       "\n",
       "    .dataframe thead th {\n",
       "        text-align: right;\n",
       "    }\n",
       "</style>\n",
       "<table border=\"1\" class=\"dataframe\">\n",
       "  <thead>\n",
       "    <tr style=\"text-align: right;\">\n",
       "      <th></th>\n",
       "      <th>Title</th>\n",
       "      <th>Title_clean</th>\n",
       "      <th>Tags</th>\n",
       "      <th>isc#</th>\n",
       "      <th>isjava</th>\n",
       "      <th>isjavascript</th>\n",
       "      <th>ispython</th>\n",
       "      <th>isc++</th>\n",
       "      <th>isios</th>\n",
       "      <th>isandroid</th>\n",
       "      <th>is.net</th>\n",
       "      <th>ishtml</th>\n",
       "      <th>isphp</th>\n",
       "    </tr>\n",
       "  </thead>\n",
       "  <tbody>\n",
       "    <tr>\n",
       "      <th>0</th>\n",
       "      <td>Travel directory tree with limited recursion d...</td>\n",
       "      <td>travel directory tree limited recursion depth</td>\n",
       "      <td>['python']</td>\n",
       "      <td>0</td>\n",
       "      <td>0</td>\n",
       "      <td>0</td>\n",
       "      <td>1</td>\n",
       "      <td>0</td>\n",
       "      <td>0</td>\n",
       "      <td>0</td>\n",
       "      <td>0</td>\n",
       "      <td>0</td>\n",
       "      <td>0</td>\n",
       "    </tr>\n",
       "    <tr>\n",
       "      <th>1</th>\n",
       "      <td>dictionaryWithContentsOfFile returning nil fro...</td>\n",
       "      <td>dictionarywithcontentsoffile return nil proper...</td>\n",
       "      <td>['iphone', 'objective-c']</td>\n",
       "      <td>0</td>\n",
       "      <td>0</td>\n",
       "      <td>0</td>\n",
       "      <td>0</td>\n",
       "      <td>0</td>\n",
       "      <td>0</td>\n",
       "      <td>0</td>\n",
       "      <td>0</td>\n",
       "      <td>0</td>\n",
       "      <td>0</td>\n",
       "    </tr>\n",
       "    <tr>\n",
       "      <th>2</th>\n",
       "      <td>Logcat is being \"spammed\", resulting in \"Too m...</td>\n",
       "      <td>logcat  spammed   result  much output process</td>\n",
       "      <td>['android']</td>\n",
       "      <td>0</td>\n",
       "      <td>0</td>\n",
       "      <td>0</td>\n",
       "      <td>0</td>\n",
       "      <td>0</td>\n",
       "      <td>0</td>\n",
       "      <td>1</td>\n",
       "      <td>0</td>\n",
       "      <td>0</td>\n",
       "      <td>0</td>\n",
       "    </tr>\n",
       "    <tr>\n",
       "      <th>3</th>\n",
       "      <td>GCDAsynSocketDelegate didReadData method is no...</td>\n",
       "      <td>gcdasynsocketdelegate didreaddata method call ...</td>\n",
       "      <td>['ios', 'iphone', 'objective-c']</td>\n",
       "      <td>0</td>\n",
       "      <td>0</td>\n",
       "      <td>0</td>\n",
       "      <td>0</td>\n",
       "      <td>0</td>\n",
       "      <td>1</td>\n",
       "      <td>0</td>\n",
       "      <td>0</td>\n",
       "      <td>0</td>\n",
       "      <td>0</td>\n",
       "    </tr>\n",
       "    <tr>\n",
       "      <th>4</th>\n",
       "      <td>Bootstrap Mobile Not Working</td>\n",
       "      <td>bootstrap mobile work</td>\n",
       "      <td>['html']</td>\n",
       "      <td>0</td>\n",
       "      <td>0</td>\n",
       "      <td>0</td>\n",
       "      <td>0</td>\n",
       "      <td>0</td>\n",
       "      <td>0</td>\n",
       "      <td>0</td>\n",
       "      <td>0</td>\n",
       "      <td>1</td>\n",
       "      <td>0</td>\n",
       "    </tr>\n",
       "    <tr>\n",
       "      <th>...</th>\n",
       "      <td>...</td>\n",
       "      <td>...</td>\n",
       "      <td>...</td>\n",
       "      <td>...</td>\n",
       "      <td>...</td>\n",
       "      <td>...</td>\n",
       "      <td>...</td>\n",
       "      <td>...</td>\n",
       "      <td>...</td>\n",
       "      <td>...</td>\n",
       "      <td>...</td>\n",
       "      <td>...</td>\n",
       "      <td>...</td>\n",
       "    </tr>\n",
       "    <tr>\n",
       "      <th>2111</th>\n",
       "      <td>WPF - Compilation error: Tags of type 'Propert...</td>\n",
       "      <td>wpf  compilation error  tags type propertyarra...</td>\n",
       "      <td>['.net']</td>\n",
       "      <td>0</td>\n",
       "      <td>0</td>\n",
       "      <td>0</td>\n",
       "      <td>0</td>\n",
       "      <td>0</td>\n",
       "      <td>0</td>\n",
       "      <td>0</td>\n",
       "      <td>1</td>\n",
       "      <td>0</td>\n",
       "      <td>0</td>\n",
       "    </tr>\n",
       "    <tr>\n",
       "      <th>2112</th>\n",
       "      <td>How to create a dynamic LINQ join extension me...</td>\n",
       "      <td>create dynamic linq join extension method</td>\n",
       "      <td>['c#', 'sql']</td>\n",
       "      <td>1</td>\n",
       "      <td>0</td>\n",
       "      <td>0</td>\n",
       "      <td>0</td>\n",
       "      <td>0</td>\n",
       "      <td>0</td>\n",
       "      <td>0</td>\n",
       "      <td>0</td>\n",
       "      <td>0</td>\n",
       "      <td>0</td>\n",
       "    </tr>\n",
       "    <tr>\n",
       "      <th>2113</th>\n",
       "      <td>Can't click Allow button in permission dialog ...</td>\n",
       "      <td>ca nt click allow button permission dialog and...</td>\n",
       "      <td>['java', 'android']</td>\n",
       "      <td>0</td>\n",
       "      <td>1</td>\n",
       "      <td>0</td>\n",
       "      <td>0</td>\n",
       "      <td>0</td>\n",
       "      <td>0</td>\n",
       "      <td>1</td>\n",
       "      <td>0</td>\n",
       "      <td>0</td>\n",
       "      <td>0</td>\n",
       "    </tr>\n",
       "    <tr>\n",
       "      <th>2114</th>\n",
       "      <td>How to find sqlalchemy remote side object's cl...</td>\n",
       "      <td>find sqlalchemy remote side object s class cla...</td>\n",
       "      <td>['python', 'sql']</td>\n",
       "      <td>0</td>\n",
       "      <td>0</td>\n",
       "      <td>0</td>\n",
       "      <td>1</td>\n",
       "      <td>0</td>\n",
       "      <td>0</td>\n",
       "      <td>0</td>\n",
       "      <td>0</td>\n",
       "      <td>0</td>\n",
       "      <td>0</td>\n",
       "    </tr>\n",
       "    <tr>\n",
       "      <th>2115</th>\n",
       "      <td>How do RESTful and SOAP Web Services differ in...</td>\n",
       "      <td>restful soap web services differ practice</td>\n",
       "      <td>['java', 'php', '.net']</td>\n",
       "      <td>0</td>\n",
       "      <td>1</td>\n",
       "      <td>0</td>\n",
       "      <td>0</td>\n",
       "      <td>0</td>\n",
       "      <td>0</td>\n",
       "      <td>0</td>\n",
       "      <td>1</td>\n",
       "      <td>0</td>\n",
       "      <td>1</td>\n",
       "    </tr>\n",
       "  </tbody>\n",
       "</table>\n",
       "<p>2116 rows × 13 columns</p>\n",
       "</div>"
      ],
      "text/plain": [
       "                                                  Title  \\\n",
       "0     Travel directory tree with limited recursion d...   \n",
       "1     dictionaryWithContentsOfFile returning nil fro...   \n",
       "2     Logcat is being \"spammed\", resulting in \"Too m...   \n",
       "3     GCDAsynSocketDelegate didReadData method is no...   \n",
       "4                          Bootstrap Mobile Not Working   \n",
       "...                                                 ...   \n",
       "2111  WPF - Compilation error: Tags of type 'Propert...   \n",
       "2112  How to create a dynamic LINQ join extension me...   \n",
       "2113  Can't click Allow button in permission dialog ...   \n",
       "2114  How to find sqlalchemy remote side object's cl...   \n",
       "2115  How do RESTful and SOAP Web Services differ in...   \n",
       "\n",
       "                                            Title_clean  \\\n",
       "0         travel directory tree limited recursion depth   \n",
       "1     dictionarywithcontentsoffile return nil proper...   \n",
       "2        logcat  spammed   result  much output process    \n",
       "3     gcdasynsocketdelegate didreaddata method call ...   \n",
       "4                                 bootstrap mobile work   \n",
       "...                                                 ...   \n",
       "2111  wpf  compilation error  tags type propertyarra...   \n",
       "2112          create dynamic linq join extension method   \n",
       "2113  ca nt click allow button permission dialog and...   \n",
       "2114  find sqlalchemy remote side object s class cla...   \n",
       "2115         restful soap web services differ practice    \n",
       "\n",
       "                                  Tags  isc#  isjava  isjavascript  ispython  \\\n",
       "0                           ['python']     0       0             0         1   \n",
       "1            ['iphone', 'objective-c']     0       0             0         0   \n",
       "2                          ['android']     0       0             0         0   \n",
       "3     ['ios', 'iphone', 'objective-c']     0       0             0         0   \n",
       "4                             ['html']     0       0             0         0   \n",
       "...                                ...   ...     ...           ...       ...   \n",
       "2111                          ['.net']     0       0             0         0   \n",
       "2112                     ['c#', 'sql']     1       0             0         0   \n",
       "2113               ['java', 'android']     0       1             0         0   \n",
       "2114                 ['python', 'sql']     0       0             0         1   \n",
       "2115           ['java', 'php', '.net']     0       1             0         0   \n",
       "\n",
       "      isc++  isios  isandroid  is.net  ishtml  isphp  \n",
       "0         0      0          0       0       0      0  \n",
       "1         0      0          0       0       0      0  \n",
       "2         0      0          1       0       0      0  \n",
       "3         0      1          0       0       0      0  \n",
       "4         0      0          0       0       1      0  \n",
       "...     ...    ...        ...     ...     ...    ...  \n",
       "2111      0      0          0       1       0      0  \n",
       "2112      0      0          0       0       0      0  \n",
       "2113      0      0          1       0       0      0  \n",
       "2114      0      0          0       0       0      0  \n",
       "2115      0      0          0       1       0      1  \n",
       "\n",
       "[2116 rows x 13 columns]"
      ]
     },
     "execution_count": 41,
     "metadata": {},
     "output_type": "execute_result"
    }
   ],
   "source": [
    "data"
   ]
  },
  {
   "cell_type": "code",
   "execution_count": null,
   "id": "aca85794",
   "metadata": {},
   "outputs": [],
   "source": []
  },
  {
   "cell_type": "code",
   "execution_count": 42,
   "id": "69e94344",
   "metadata": {},
   "outputs": [],
   "source": [
    "def sup_predict(text, true_tags, vec = vec, tags_list = top_10_tags, model = mclr) :\n",
    "    text_clean = preprocess(text)\n",
    "    bow = vec.transform([text_clean]).toarray()\n",
    "    pred = model.predict(bow)\n",
    "    pred_tags = []\n",
    "    for i in range(len(pred[0])) :\n",
    "        if pred[0][i] == 1 :\n",
    "            pred_tags.append(tags_list[i])\n",
    "    return true_tags, pred_tags"
   ]
  },
  {
   "cell_type": "code",
   "execution_count": 43,
   "id": "2614baf6",
   "metadata": {},
   "outputs": [
    {
     "data": {
      "text/html": [
       "<div>\n",
       "<style scoped>\n",
       "    .dataframe tbody tr th:only-of-type {\n",
       "        vertical-align: middle;\n",
       "    }\n",
       "\n",
       "    .dataframe tbody tr th {\n",
       "        vertical-align: top;\n",
       "    }\n",
       "\n",
       "    .dataframe thead th {\n",
       "        text-align: right;\n",
       "    }\n",
       "</style>\n",
       "<table border=\"1\" class=\"dataframe\">\n",
       "  <thead>\n",
       "    <tr style=\"text-align: right;\">\n",
       "      <th></th>\n",
       "      <th>0</th>\n",
       "      <th>0</th>\n",
       "    </tr>\n",
       "  </thead>\n",
       "  <tbody>\n",
       "    <tr>\n",
       "      <th>0</th>\n",
       "      <td>['python']</td>\n",
       "      <td>[python]</td>\n",
       "    </tr>\n",
       "    <tr>\n",
       "      <th>1</th>\n",
       "      <td>['iphone', 'objective-c']</td>\n",
       "      <td>[]</td>\n",
       "    </tr>\n",
       "    <tr>\n",
       "      <th>2</th>\n",
       "      <td>['android']</td>\n",
       "      <td>[]</td>\n",
       "    </tr>\n",
       "    <tr>\n",
       "      <th>3</th>\n",
       "      <td>['ios', 'iphone', 'objective-c']</td>\n",
       "      <td>[]</td>\n",
       "    </tr>\n",
       "    <tr>\n",
       "      <th>4</th>\n",
       "      <td>['html']</td>\n",
       "      <td>[]</td>\n",
       "    </tr>\n",
       "    <tr>\n",
       "      <th>...</th>\n",
       "      <td>...</td>\n",
       "      <td>...</td>\n",
       "    </tr>\n",
       "    <tr>\n",
       "      <th>2111</th>\n",
       "      <td>['.net']</td>\n",
       "      <td>[.net]</td>\n",
       "    </tr>\n",
       "    <tr>\n",
       "      <th>2112</th>\n",
       "      <td>['c#', 'sql']</td>\n",
       "      <td>[c#]</td>\n",
       "    </tr>\n",
       "    <tr>\n",
       "      <th>2113</th>\n",
       "      <td>['java', 'android']</td>\n",
       "      <td>[java, android]</td>\n",
       "    </tr>\n",
       "    <tr>\n",
       "      <th>2114</th>\n",
       "      <td>['python', 'sql']</td>\n",
       "      <td>[]</td>\n",
       "    </tr>\n",
       "    <tr>\n",
       "      <th>2115</th>\n",
       "      <td>['java', 'php', '.net']</td>\n",
       "      <td>[java, .net]</td>\n",
       "    </tr>\n",
       "  </tbody>\n",
       "</table>\n",
       "<p>2116 rows × 2 columns</p>\n",
       "</div>"
      ],
      "text/plain": [
       "                                     0                0\n",
       "0                           ['python']         [python]\n",
       "1            ['iphone', 'objective-c']               []\n",
       "2                          ['android']               []\n",
       "3     ['ios', 'iphone', 'objective-c']               []\n",
       "4                             ['html']               []\n",
       "...                                ...              ...\n",
       "2111                          ['.net']           [.net]\n",
       "2112                     ['c#', 'sql']             [c#]\n",
       "2113               ['java', 'android']  [java, android]\n",
       "2114                 ['python', 'sql']               []\n",
       "2115           ['java', 'php', '.net']     [java, .net]\n",
       "\n",
       "[2116 rows x 2 columns]"
      ]
     },
     "execution_count": 43,
     "metadata": {},
     "output_type": "execute_result"
    }
   ],
   "source": [
    "result = data.apply(lambda x: sup_predict(x.Title_clean, x.Tags), axis=1)\n",
    "result = pd.concat([pd.DataFrame(result.explode()[::2]), pd.DataFrame(result.explode()[1::2])], axis = 1)\n",
    "result"
   ]
  },
  {
   "cell_type": "code",
   "execution_count": null,
   "id": "756b118f",
   "metadata": {},
   "outputs": [],
   "source": []
  },
  {
   "cell_type": "markdown",
   "id": "61a5696c",
   "metadata": {},
   "source": []
  },
  {
   "cell_type": "markdown",
   "id": "9ef9206d",
   "metadata": {},
   "source": []
  }
 ],
 "metadata": {
  "kernelspec": {
   "display_name": "Python 3 (ipykernel)",
   "language": "python",
   "name": "python3"
  },
  "language_info": {
   "codemirror_mode": {
    "name": "ipython",
    "version": 3
   },
   "file_extension": ".py",
   "mimetype": "text/x-python",
   "name": "python",
   "nbconvert_exporter": "python",
   "pygments_lexer": "ipython3",
   "version": "3.9.12"
  }
 },
 "nbformat": 4,
 "nbformat_minor": 5
}
