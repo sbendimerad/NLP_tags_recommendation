{
 "cells": [
  {
   "cell_type": "markdown",
   "id": "76554fa1",
   "metadata": {},
   "source": [
    "# Classification supervisée des questions (approche doc2vec)"
   ]
  },
  {
   "cell_type": "markdown",
   "id": "25e0ac38",
   "metadata": {},
   "source": [
    "## Import des librairies et des données"
   ]
  },
  {
   "cell_type": "code",
   "execution_count": 2,
   "id": "c9c07f8b",
   "metadata": {},
   "outputs": [],
   "source": [
    "import pandas as pd\n",
    "import numpy as np\n",
    "import time"
   ]
  },
  {
   "cell_type": "code",
   "execution_count": 3,
   "id": "ffc586ed",
   "metadata": {},
   "outputs": [],
   "source": [
    "import matplotlib.pyplot as plt\n",
    "import seaborn as sns\n",
    "sns.set()"
   ]
  },
  {
   "cell_type": "code",
   "execution_count": 4,
   "id": "c56bfb0a",
   "metadata": {},
   "outputs": [],
   "source": [
    "import nltk\n",
    "stop_words = nltk.corpus.stopwords.words(\"english\")\n",
    "for word in ['what', 'how', 'where', 'who', 'which'] :\n",
    "    stop_words.append(word)\n",
    "from string import punctuation"
   ]
  },
  {
   "cell_type": "code",
   "execution_count": 5,
   "id": "184f48cd",
   "metadata": {},
   "outputs": [],
   "source": [
    "from bs4 import BeautifulSoup"
   ]
  },
  {
   "cell_type": "code",
   "execution_count": 6,
   "id": "9a7740bc",
   "metadata": {},
   "outputs": [],
   "source": [
    "from gensim.models.doc2vec import Doc2Vec, TaggedDocument"
   ]
  },
  {
   "cell_type": "code",
   "execution_count": 7,
   "id": "71ccde77",
   "metadata": {},
   "outputs": [],
   "source": [
    "import spacy"
   ]
  },
  {
   "cell_type": "code",
   "execution_count": 8,
   "id": "89d9fef5",
   "metadata": {},
   "outputs": [
    {
     "name": "stdout",
     "output_type": "stream",
     "text": [
      "INFO: Pandarallel will run on 8 workers.\n",
      "INFO: Pandarallel will use standard multiprocessing data transfer (pipe) to transfer data between the main process and workers.\n"
     ]
    }
   ],
   "source": [
    "from pandarallel import pandarallel\n",
    "\n",
    "pandarallel.initialize(progress_bar=True)"
   ]
  },
  {
   "cell_type": "code",
   "execution_count": 9,
   "id": "d4a2141f",
   "metadata": {},
   "outputs": [],
   "source": [
    "from sklearn.model_selection import train_test_split\n",
    "from sklearn.metrics import jaccard_score\n",
    "from sklearn.linear_model import LogisticRegression"
   ]
  },
  {
   "cell_type": "code",
   "execution_count": 10,
   "id": "7d433e20",
   "metadata": {},
   "outputs": [],
   "source": [
    "from sklearn.multioutput import MultiOutputClassifier"
   ]
  },
  {
   "cell_type": "code",
   "execution_count": 11,
   "id": "6431a8c4",
   "metadata": {},
   "outputs": [],
   "source": [
    "file = open(\"top_10_tags.txt\", \"r\")\n",
    "top_10_tags = file.read()\n",
    "top_10_tags = list(top_10_tags.split('\\n')[:-1])\n",
    "file.close()"
   ]
  },
  {
   "cell_type": "code",
   "execution_count": 12,
   "id": "982d9e60",
   "metadata": {},
   "outputs": [],
   "source": [
    "data = pd.read_csv(\"data.csv\")"
   ]
  },
  {
   "cell_type": "code",
   "execution_count": 13,
   "id": "92df0bdf",
   "metadata": {},
   "outputs": [
    {
     "data": {
      "text/html": [
       "<div>\n",
       "<style scoped>\n",
       "    .dataframe tbody tr th:only-of-type {\n",
       "        vertical-align: middle;\n",
       "    }\n",
       "\n",
       "    .dataframe tbody tr th {\n",
       "        vertical-align: top;\n",
       "    }\n",
       "\n",
       "    .dataframe thead th {\n",
       "        text-align: right;\n",
       "    }\n",
       "</style>\n",
       "<table border=\"1\" class=\"dataframe\">\n",
       "  <thead>\n",
       "    <tr style=\"text-align: right;\">\n",
       "      <th></th>\n",
       "      <th>index</th>\n",
       "      <th>Title</th>\n",
       "    </tr>\n",
       "  </thead>\n",
       "  <tbody>\n",
       "    <tr>\n",
       "      <th>0</th>\n",
       "      <td>10343</td>\n",
       "      <td>Understanding the use of @ModelAttribute and @...</td>\n",
       "    </tr>\n",
       "    <tr>\n",
       "      <th>1</th>\n",
       "      <td>20428</td>\n",
       "      <td>How do streaming videos work?</td>\n",
       "    </tr>\n",
       "    <tr>\n",
       "      <th>2</th>\n",
       "      <td>33628</td>\n",
       "      <td>Converting procedural PHP into object-oriented...</td>\n",
       "    </tr>\n",
       "    <tr>\n",
       "      <th>3</th>\n",
       "      <td>24615</td>\n",
       "      <td>gcc - how to find path of header include file</td>\n",
       "    </tr>\n",
       "    <tr>\n",
       "      <th>4</th>\n",
       "      <td>41137</td>\n",
       "      <td>Every time I try to deploy I get - (gcloud.pre...</td>\n",
       "    </tr>\n",
       "  </tbody>\n",
       "</table>\n",
       "</div>"
      ],
      "text/plain": [
       "   index                                              Title\n",
       "0  10343  Understanding the use of @ModelAttribute and @...\n",
       "1  20428                      How do streaming videos work?\n",
       "2  33628  Converting procedural PHP into object-oriented...\n",
       "3  24615      gcc - how to find path of header include file\n",
       "4  41137  Every time I try to deploy I get - (gcloud.pre..."
      ]
     },
     "execution_count": 13,
     "metadata": {},
     "output_type": "execute_result"
    }
   ],
   "source": [
    "text = data['Title']\n",
    "text_spl = text.sample(frac = 0.25).reset_index()\n",
    "text_spl.head()"
   ]
  },
  {
   "cell_type": "markdown",
   "id": "6d861317",
   "metadata": {},
   "source": [
    "## Nettoyage des données"
   ]
  },
  {
   "cell_type": "code",
   "execution_count": 14,
   "id": "7123a39a",
   "metadata": {},
   "outputs": [],
   "source": [
    "def preprocess(text) :\n",
    "\n",
    "    \"\"\"\" Nettoyage du texte :\n",
    "    passage au minuscule\n",
    "    suppression du code éventuel du texte que l'on stocke dans une variable 'code'\n",
    "    suppression et du contenu des balises autres que p (script, alt, ...)\n",
    "    suppression des balises html\n",
    "    conservation des textes labellisés par les top 10 tags uniquement\n",
    "    suppression de la ponctuation, des chiffres,\n",
    "    et des stopwords\n",
    "    lemmatisation par spaCy \"\"\"\n",
    "    \n",
    "    text = text.lower()\n",
    "    \n",
    "    soup = BeautifulSoup(text)\n",
    "    \n",
    "    if soup.find(\"code\") :        \n",
    "        code = soup.find(\"code\").get_text()\n",
    "        soup.find('code').clear()\n",
    "    text_wo_tags = soup.get_text()\n",
    "    \n",
    "    for i in range(1, len(text_wo_tags)) :\n",
    "        if text_wo_tags[i-1] == 'c' and text_wo_tags[i] == '#' :\n",
    "            text_wo_tags = text_wo_tags.replace(text_wo_tags[i], 'sharp')\n",
    "    \n",
    "    token_list = nltk.word_tokenize(text_wo_tags)\n",
    "    \n",
    "    new_text = []\n",
    "    \n",
    "    for token in token_list :\n",
    "        if token in top_10_tags :\n",
    "            new_text.append(token)\n",
    "        elif token not in stop_words :\n",
    "            for char in token :\n",
    "                if char in punctuation or char.isdigit() :\n",
    "                    token = token.replace(char, '')\n",
    "            new_text.append(token)\n",
    "    \n",
    "    lem = nltk.stem.WordNetLemmatizer()\n",
    "    \n",
    "    for token in new_text :\n",
    "        if nltk.pos_tag([token])[0][1].startswith('V') :\n",
    "            index = new_text.index(token)\n",
    "            token_lem = lem.lemmatize(token, pos = 'v')\n",
    "            new_text[index] = new_text[index].replace(token, token_lem)\n",
    "            \n",
    "    new_text = ' '.join(new_text)\n",
    "\n",
    "    return new_text"
   ]
  },
  {
   "cell_type": "code",
   "execution_count": 15,
   "id": "10dee0e3",
   "metadata": {},
   "outputs": [
    {
     "name": "stdout",
     "output_type": "stream",
     "text": [
      "Textes bruts :\n",
      "\n",
      "0     Understanding the use of @ModelAttribute and @...\n",
      "1                         How do streaming videos work?\n",
      "2     Converting procedural PHP into object-oriented...\n",
      "3         gcc - how to find path of header include file\n",
      "4     Every time I try to deploy I get - (gcloud.pre...\n",
      "5     Starting and stopping IIS Express programmatic...\n",
      "6            Writing a very basic search form in Django\n",
      "7             Moving from ints to GUIDs as primary keys\n",
      "8     How to convert the file/s upload request made ...\n",
      "9               How to clean up after subprocess.Popen?\n",
      "10                              Egyptian Fractions in C\n",
      "11    How to install the Raspberry Pi cross compiler...\n",
      "Name: Title, dtype: object\n",
      "---------------------------------------\n",
      "Textes nettoyés :\n",
      "\n",
      "0     understand use  modelattribute  requestattribu...\n",
      "1                                   stream videos work \n",
      "2             convert procedural php objectoriented php\n",
      "3                    gcc  find path header include file\n",
      "4     every time try deploy get   gcloudpreviewappde...\n",
      "5               start stop iis express programmatically\n",
      "6                        write basic search form django\n",
      "7                          move ints guids primary keys\n",
      "8     convert files upload request make filepicker s...\n",
      "9                                clean subprocesspopen \n",
      "10                                 egyptian fractions c\n",
      "11    install raspberry pi cross compiler linux host...\n",
      "Name: Title, dtype: object\n"
     ]
    },
    {
     "name": "stderr",
     "output_type": "stream",
     "text": [
      "/opt/anaconda3/lib/python3.9/site-packages/bs4/__init__.py:435: MarkupResemblesLocatorWarning: The input looks more like a filename than markup. You may want to open this file and pass the filehandle into Beautiful Soup.\n",
      "  warnings.warn(\n"
     ]
    }
   ],
   "source": [
    "print(\"Textes bruts :\")\n",
    "print(\"\")\n",
    "print(text_spl.loc[:11, 'Title'])\n",
    "print(\"---------------------------------------\")\n",
    "print(\"Textes nettoyés :\")\n",
    "print(\"\")\n",
    "print(text_spl.loc[:11, 'Title'].apply(preprocess))"
   ]
  },
  {
   "cell_type": "code",
   "execution_count": 16,
   "id": "c98df54f",
   "metadata": {},
   "outputs": [
    {
     "data": {
      "application/vnd.jupyter.widget-view+json": {
       "model_id": "c7ec4382f04e4915a2dc2eae4f442d2e",
       "version_major": 2,
       "version_minor": 0
      },
      "text/plain": [
       "VBox(children=(HBox(children=(IntProgress(value=0, description='0.00%', max=1323), Label(value='0 / 1323'))), …"
      ]
     },
     "metadata": {},
     "output_type": "display_data"
    },
    {
     "name": "stdout",
     "output_type": "stream",
     "text": [
      "CPU times: user 223 ms, sys: 115 ms, total: 338 ms\n",
      "Wall time: 2.16 s\n"
     ]
    }
   ],
   "source": [
    "%%time\n",
    "text_clean = text_spl['Title'].parallel_apply(preprocess)"
   ]
  },
  {
   "cell_type": "code",
   "execution_count": 17,
   "id": "88852778",
   "metadata": {},
   "outputs": [],
   "source": [
    "text_spl['Title_clean'] = text_clean"
   ]
  },
  {
   "cell_type": "code",
   "execution_count": 18,
   "id": "b806ccca",
   "metadata": {},
   "outputs": [
    {
     "data": {
      "text/html": [
       "<div>\n",
       "<style scoped>\n",
       "    .dataframe tbody tr th:only-of-type {\n",
       "        vertical-align: middle;\n",
       "    }\n",
       "\n",
       "    .dataframe tbody tr th {\n",
       "        vertical-align: top;\n",
       "    }\n",
       "\n",
       "    .dataframe thead th {\n",
       "        text-align: right;\n",
       "    }\n",
       "</style>\n",
       "<table border=\"1\" class=\"dataframe\">\n",
       "  <thead>\n",
       "    <tr style=\"text-align: right;\">\n",
       "      <th></th>\n",
       "      <th>Title</th>\n",
       "      <th>Title_clean</th>\n",
       "      <th>Tags</th>\n",
       "    </tr>\n",
       "  </thead>\n",
       "  <tbody>\n",
       "    <tr>\n",
       "      <th>0</th>\n",
       "      <td>Understanding the use of @ModelAttribute and @...</td>\n",
       "      <td>understand use  modelattribute  requestattribu...</td>\n",
       "      <td>['java', 'spring']</td>\n",
       "    </tr>\n",
       "    <tr>\n",
       "      <th>1</th>\n",
       "      <td>How do streaming videos work?</td>\n",
       "      <td>stream videos work</td>\n",
       "      <td>['java', 'javascript']</td>\n",
       "    </tr>\n",
       "    <tr>\n",
       "      <th>2</th>\n",
       "      <td>Converting procedural PHP into object-oriented...</td>\n",
       "      <td>convert procedural php objectoriented php</td>\n",
       "      <td>['php']</td>\n",
       "    </tr>\n",
       "  </tbody>\n",
       "</table>\n",
       "</div>"
      ],
      "text/plain": [
       "                                               Title  \\\n",
       "0  Understanding the use of @ModelAttribute and @...   \n",
       "1                      How do streaming videos work?   \n",
       "2  Converting procedural PHP into object-oriented...   \n",
       "\n",
       "                                         Title_clean                    Tags  \n",
       "0  understand use  modelattribute  requestattribu...      ['java', 'spring']  \n",
       "1                                stream videos work   ['java', 'javascript']  \n",
       "2          convert procedural php objectoriented php                 ['php']  "
      ]
     },
     "execution_count": 18,
     "metadata": {},
     "output_type": "execute_result"
    }
   ],
   "source": [
    "data = pd.merge(data.iloc[text_spl['index']], text_spl)[['Title', 'Title_clean', 'Tags']]\n",
    "data.head(3)"
   ]
  },
  {
   "cell_type": "markdown",
   "id": "f099a5d8",
   "metadata": {},
   "source": [
    "## Feature extraction : Doc2Vec embedding"
   ]
  },
  {
   "cell_type": "code",
   "execution_count": 19,
   "id": "1af419b1",
   "metadata": {},
   "outputs": [],
   "source": [
    "tokenized_docs = text_clean.apply(nltk.word_tokenize).tolist()"
   ]
  },
  {
   "cell_type": "code",
   "execution_count": 20,
   "id": "2a2366ab",
   "metadata": {},
   "outputs": [],
   "source": [
    "tagged_docs = [TaggedDocument(words=doc, tags=[i]) for i, doc in enumerate(tokenized_docs)]"
   ]
  },
  {
   "cell_type": "code",
   "execution_count": 21,
   "id": "1f6e4846",
   "metadata": {},
   "outputs": [
    {
     "name": "stdout",
     "output_type": "stream",
     "text": [
      "CPU times: user 37.3 s, sys: 14.9 s, total: 52.2 s\n",
      "Wall time: 39 s\n"
     ]
    }
   ],
   "source": [
    "%%time\n",
    "model = Doc2Vec(tagged_docs, vector_size=50, window=2, min_count=1, workers=4, epochs=100)"
   ]
  },
  {
   "cell_type": "code",
   "execution_count": 22,
   "id": "ff92edde",
   "metadata": {},
   "outputs": [
    {
     "name": "stdout",
     "output_type": "stream",
     "text": [
      "CPU times: user 18.9 s, sys: 51.9 ms, total: 19 s\n",
      "Wall time: 19 s\n"
     ]
    }
   ],
   "source": [
    "%%time\n",
    "doc_vectors = [model.infer_vector(doc) for doc in tokenized_docs]"
   ]
  },
  {
   "cell_type": "code",
   "execution_count": 23,
   "id": "f1faab5d",
   "metadata": {},
   "outputs": [
    {
     "data": {
      "text/html": [
       "<div>\n",
       "<style scoped>\n",
       "    .dataframe tbody tr th:only-of-type {\n",
       "        vertical-align: middle;\n",
       "    }\n",
       "\n",
       "    .dataframe tbody tr th {\n",
       "        vertical-align: top;\n",
       "    }\n",
       "\n",
       "    .dataframe thead th {\n",
       "        text-align: right;\n",
       "    }\n",
       "</style>\n",
       "<table border=\"1\" class=\"dataframe\">\n",
       "  <thead>\n",
       "    <tr style=\"text-align: right;\">\n",
       "      <th></th>\n",
       "      <th>0</th>\n",
       "      <th>1</th>\n",
       "      <th>2</th>\n",
       "      <th>3</th>\n",
       "      <th>4</th>\n",
       "      <th>5</th>\n",
       "      <th>6</th>\n",
       "      <th>7</th>\n",
       "      <th>8</th>\n",
       "      <th>9</th>\n",
       "      <th>...</th>\n",
       "      <th>40</th>\n",
       "      <th>41</th>\n",
       "      <th>42</th>\n",
       "      <th>43</th>\n",
       "      <th>44</th>\n",
       "      <th>45</th>\n",
       "      <th>46</th>\n",
       "      <th>47</th>\n",
       "      <th>48</th>\n",
       "      <th>49</th>\n",
       "    </tr>\n",
       "  </thead>\n",
       "  <tbody>\n",
       "    <tr>\n",
       "      <th>0</th>\n",
       "      <td>0.815969</td>\n",
       "      <td>0.568768</td>\n",
       "      <td>0.028431</td>\n",
       "      <td>0.272409</td>\n",
       "      <td>0.476963</td>\n",
       "      <td>-0.102974</td>\n",
       "      <td>0.827024</td>\n",
       "      <td>0.409035</td>\n",
       "      <td>-0.243580</td>\n",
       "      <td>-0.502760</td>\n",
       "      <td>...</td>\n",
       "      <td>0.101257</td>\n",
       "      <td>-0.371736</td>\n",
       "      <td>0.095607</td>\n",
       "      <td>-0.227959</td>\n",
       "      <td>1.288437</td>\n",
       "      <td>0.168936</td>\n",
       "      <td>0.188166</td>\n",
       "      <td>-0.030234</td>\n",
       "      <td>0.326549</td>\n",
       "      <td>0.510829</td>\n",
       "    </tr>\n",
       "    <tr>\n",
       "      <th>1</th>\n",
       "      <td>0.380908</td>\n",
       "      <td>-0.332142</td>\n",
       "      <td>-0.018626</td>\n",
       "      <td>0.151518</td>\n",
       "      <td>0.237649</td>\n",
       "      <td>0.001713</td>\n",
       "      <td>-0.108884</td>\n",
       "      <td>0.408431</td>\n",
       "      <td>-0.304398</td>\n",
       "      <td>0.079491</td>\n",
       "      <td>...</td>\n",
       "      <td>0.260453</td>\n",
       "      <td>0.172520</td>\n",
       "      <td>-0.077629</td>\n",
       "      <td>0.027335</td>\n",
       "      <td>0.398056</td>\n",
       "      <td>0.179121</td>\n",
       "      <td>0.149117</td>\n",
       "      <td>0.031777</td>\n",
       "      <td>0.216352</td>\n",
       "      <td>0.549914</td>\n",
       "    </tr>\n",
       "    <tr>\n",
       "      <th>2</th>\n",
       "      <td>0.297508</td>\n",
       "      <td>-0.073496</td>\n",
       "      <td>0.547482</td>\n",
       "      <td>-0.141867</td>\n",
       "      <td>-0.919239</td>\n",
       "      <td>-0.453138</td>\n",
       "      <td>0.393963</td>\n",
       "      <td>0.591184</td>\n",
       "      <td>-0.316400</td>\n",
       "      <td>0.327702</td>\n",
       "      <td>...</td>\n",
       "      <td>0.308404</td>\n",
       "      <td>-0.208561</td>\n",
       "      <td>-0.020768</td>\n",
       "      <td>0.577534</td>\n",
       "      <td>0.391925</td>\n",
       "      <td>-0.765707</td>\n",
       "      <td>0.326047</td>\n",
       "      <td>-0.414904</td>\n",
       "      <td>0.115831</td>\n",
       "      <td>0.777314</td>\n",
       "    </tr>\n",
       "  </tbody>\n",
       "</table>\n",
       "<p>3 rows × 50 columns</p>\n",
       "</div>"
      ],
      "text/plain": [
       "         0         1         2         3         4         5         6   \\\n",
       "0  0.815969  0.568768  0.028431  0.272409  0.476963 -0.102974  0.827024   \n",
       "1  0.380908 -0.332142 -0.018626  0.151518  0.237649  0.001713 -0.108884   \n",
       "2  0.297508 -0.073496  0.547482 -0.141867 -0.919239 -0.453138  0.393963   \n",
       "\n",
       "         7         8         9   ...        40        41        42        43  \\\n",
       "0  0.409035 -0.243580 -0.502760  ...  0.101257 -0.371736  0.095607 -0.227959   \n",
       "1  0.408431 -0.304398  0.079491  ...  0.260453  0.172520 -0.077629  0.027335   \n",
       "2  0.591184 -0.316400  0.327702  ...  0.308404 -0.208561 -0.020768  0.577534   \n",
       "\n",
       "         44        45        46        47        48        49  \n",
       "0  1.288437  0.168936  0.188166 -0.030234  0.326549  0.510829  \n",
       "1  0.398056  0.179121  0.149117  0.031777  0.216352  0.549914  \n",
       "2  0.391925 -0.765707  0.326047 -0.414904  0.115831  0.777314  \n",
       "\n",
       "[3 rows x 50 columns]"
      ]
     },
     "execution_count": 23,
     "metadata": {},
     "output_type": "execute_result"
    }
   ],
   "source": [
    "doc_vectors = pd.DataFrame(doc_vectors)\n",
    "doc_vectors.head(3)"
   ]
  },
  {
   "cell_type": "code",
   "execution_count": 24,
   "id": "dd60f1f2",
   "metadata": {},
   "outputs": [],
   "source": [
    "data = doc_vectors.join(data)"
   ]
  },
  {
   "cell_type": "markdown",
   "id": "6aeed29f",
   "metadata": {},
   "source": [
    "## Encoding des tags"
   ]
  },
  {
   "cell_type": "code",
   "execution_count": 25,
   "id": "6b0a63e2",
   "metadata": {},
   "outputs": [],
   "source": [
    "for tag in top_10_tags :\n",
    "    data['is' + tag] = 0\n",
    "    index = 0\n",
    "    for doc_tag in data['Tags'] :\n",
    "        if tag in doc_tag :\n",
    "            data.loc[index, 'is' + tag] = 1\n",
    "        index += 1"
   ]
  },
  {
   "cell_type": "markdown",
   "id": "8c02eba3",
   "metadata": {},
   "source": [
    "## Classification supervisée : MultiOutput Logistic Regression"
   ]
  },
  {
   "cell_type": "code",
   "execution_count": 26,
   "id": "e19aef8e",
   "metadata": {},
   "outputs": [],
   "source": [
    "X = data.iloc[:,:-13].values\n",
    "y = data.iloc[:,-10:].values"
   ]
  },
  {
   "cell_type": "code",
   "execution_count": 27,
   "id": "9d97b1e4",
   "metadata": {},
   "outputs": [],
   "source": [
    "X_train, X_test, y_train, y_test = train_test_split(X, y, test_size = 0.33, random_state = 42)"
   ]
  },
  {
   "cell_type": "code",
   "execution_count": 28,
   "id": "7a092b00",
   "metadata": {},
   "outputs": [
    {
     "name": "stdout",
     "output_type": "stream",
     "text": [
      "CPU times: user 591 ms, sys: 243 ms, total: 834 ms\n",
      "Wall time: 180 ms\n"
     ]
    }
   ],
   "source": [
    "%%time\n",
    "mclr = MultiOutputClassifier(LogisticRegression(max_iter = 1000)).fit(X_train, y_train)"
   ]
  },
  {
   "cell_type": "code",
   "execution_count": null,
   "id": "8dea2715",
   "metadata": {},
   "outputs": [],
   "source": []
  },
  {
   "cell_type": "markdown",
   "id": "ed0fa2ed",
   "metadata": {},
   "source": [
    "## Scores"
   ]
  },
  {
   "cell_type": "code",
   "execution_count": 29,
   "id": "d63384cd",
   "metadata": {},
   "outputs": [
    {
     "data": {
      "text/plain": [
       "0.2819246507690137"
      ]
     },
     "execution_count": 29,
     "metadata": {},
     "output_type": "execute_result"
    }
   ],
   "source": [
    "mclr.score(X_train, y_train)"
   ]
  },
  {
   "cell_type": "code",
   "execution_count": 30,
   "id": "6b2e97f4",
   "metadata": {},
   "outputs": [
    {
     "data": {
      "text/plain": [
       "0.26955027212833"
      ]
     },
     "execution_count": 30,
     "metadata": {},
     "output_type": "execute_result"
    }
   ],
   "source": [
    "mclr.score(X_test, y_test)"
   ]
  },
  {
   "cell_type": "code",
   "execution_count": 31,
   "id": "d9ac9ec2",
   "metadata": {},
   "outputs": [
    {
     "data": {
      "text/plain": [
       "0.1760341726618705"
      ]
     },
     "execution_count": 31,
     "metadata": {},
     "output_type": "execute_result"
    }
   ],
   "source": [
    "jaccard_score(y_test, mclr.predict(X_test), average = 'micro')"
   ]
  },
  {
   "cell_type": "code",
   "execution_count": null,
   "id": "5e0c4e77",
   "metadata": {},
   "outputs": [],
   "source": []
  },
  {
   "cell_type": "code",
   "execution_count": null,
   "id": "11b39b6b",
   "metadata": {},
   "outputs": [],
   "source": []
  },
  {
   "cell_type": "markdown",
   "id": "36acb7af",
   "metadata": {},
   "source": []
  }
 ],
 "metadata": {
  "kernelspec": {
   "display_name": "Python 3 (ipykernel)",
   "language": "python",
   "name": "python3"
  },
  "language_info": {
   "codemirror_mode": {
    "name": "ipython",
    "version": 3
   },
   "file_extension": ".py",
   "mimetype": "text/x-python",
   "name": "python",
   "nbconvert_exporter": "python",
   "pygments_lexer": "ipython3",
   "version": "3.9.12"
  }
 },
 "nbformat": 4,
 "nbformat_minor": 5
}
